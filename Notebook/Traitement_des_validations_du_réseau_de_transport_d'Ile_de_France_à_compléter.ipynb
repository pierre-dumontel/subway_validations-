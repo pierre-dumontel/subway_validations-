{
  "cells": [
    {
      "cell_type": "markdown",
      "metadata": {
        "id": "view-in-github",
        "colab_type": "text"
      },
      "source": [
        "<a href=\"https://colab.research.google.com/github/pierredumontel/subway_validations-/blob/main/Notebook/Traitement_des_validations_du_re%CC%81seau_de_transport_d'Ile_de_France_a%CC%80_comple%CC%81ter.ipynb\" target=\"_parent\"><img src=\"https://colab.research.google.com/assets/colab-badge.svg\" alt=\"Open In Colab\"/></a>"
      ]
    },
    {
      "cell_type": "markdown",
      "metadata": {
        "id": "lF33cvquA22Y"
      },
      "source": [
        "# Mini-projet Apache Spark\n",
        "\n",
        "Merci d'indiquer les noms composant le binôme :\n",
        "\n",
        "|Nom | Prénom|\n",
        "|---|---|\n",
        "| DUMONTEL | Pierre |\n",
        "| ROUET | William |\n",
        "\n",
        "L'objectif est de collecter les données de validations quotidiennes de titres de transport de la région parisienne, disponibles en Open Data sur le site de Mobilités Ile-de-France.\n",
        "\n",
        "On se concentrera sur le **réseau ferré** exclusivement pour cet exercice."
      ]
    },
    {
      "cell_type": "markdown",
      "metadata": {
        "id": "B4fXsbY1BRCt"
      },
      "source": [
        "## Installation de Spark\n",
        "\n",
        "Apache Spark n'est pas disponible en standard sur Google Colab.\n",
        "Procéder à son installation, ainsi qu'à son initialisation pour réaliser le traitement à venir."
      ]
    },
    {
      "cell_type": "code",
      "execution_count": null,
      "metadata": {
        "colab": {
          "base_uri": "https://localhost:8080/"
        },
        "id": "Xk3QdgByAw-h",
        "outputId": "cabf3b6b-84e4-4078-db4e-e459748df26f"
      },
      "outputs": [
        {
          "output_type": "stream",
          "name": "stdout",
          "text": [
            "Collecting pyspark\n",
            "  Downloading pyspark-3.2.0.tar.gz (281.3 MB)\n",
            "\u001b[K     |████████████████████████████████| 281.3 MB 33 kB/s \n",
            "\u001b[?25hCollecting py4j==0.10.9.2\n",
            "  Downloading py4j-0.10.9.2-py2.py3-none-any.whl (198 kB)\n",
            "\u001b[K     |████████████████████████████████| 198 kB 52.9 MB/s \n",
            "\u001b[?25hBuilding wheels for collected packages: pyspark\n",
            "  Building wheel for pyspark (setup.py) ... \u001b[?25l\u001b[?25hdone\n",
            "  Created wheel for pyspark: filename=pyspark-3.2.0-py2.py3-none-any.whl size=281805912 sha256=0c9bf4f32a94c9c511ed3c1394ed693bf39fb7beada6a51e43193aae18c2b851\n",
            "  Stored in directory: /root/.cache/pip/wheels/0b/de/d2/9be5d59d7331c6c2a7c1b6d1a4f463ce107332b1ecd4e80718\n",
            "Successfully built pyspark\n",
            "Installing collected packages: py4j, pyspark\n",
            "Successfully installed py4j-0.10.9.2 pyspark-3.2.0\n"
          ]
        }
      ],
      "source": [
        "!pip install pyspark"
      ]
    },
    {
      "cell_type": "code",
      "execution_count": null,
      "metadata": {
        "colab": {
          "base_uri": "https://localhost:8080/"
        },
        "id": "TCu5Wi4KRl0Z",
        "outputId": "dbb9b856-df59-401d-8905-55d0a3322c05"
      },
      "outputs": [
        {
          "output_type": "stream",
          "name": "stderr",
          "text": [
            "/usr/local/lib/python3.7/dist-packages/pyspark/sql/context.py:79: FutureWarning: Deprecated in 3.0.0. Use SparkSession.builder.getOrCreate() instead.\n",
            "  FutureWarning\n"
          ]
        }
      ],
      "source": [
        "import pyspark\n",
        "\n",
        "sc = pyspark.SparkContext()\n",
        "sql_sc = pyspark.SQLContext(sc)"
      ]
    },
    {
      "cell_type": "code",
      "execution_count": null,
      "metadata": {
        "colab": {
          "base_uri": "https://localhost:8080/"
        },
        "id": "i86NaYTfmrgK",
        "outputId": "1e01203d-060c-4bd2-857f-397b1d195b3a"
      },
      "outputs": [
        {
          "output_type": "stream",
          "name": "stdout",
          "text": [
            "Mounted at /content/drive\n"
          ]
        }
      ],
      "source": [
        "from google.colab import drive\n",
        "drive.mount('/content/drive')"
      ]
    },
    {
      "cell_type": "code",
      "execution_count": null,
      "metadata": {
        "id": "Ewy7y2vEqp2E"
      },
      "outputs": [],
      "source": [
        "spark = (pyspark.sql.SparkSession\n",
        "         .builder\n",
        "         .appName('GasPrice')\n",
        "         .getOrCreate()\n",
        ")"
      ]
    },
    {
      "cell_type": "markdown",
      "metadata": {
        "id": "uFkMo_2WBcrG"
      },
      "source": [
        "## Récupération des données\n",
        "\n",
        "Sur le site https://data.iledefrance-mobilites.fr, récupérer les données de validation par jour.\n",
        "\n",
        "Exemple :\n",
        "https://data.iledefrance-mobilites.fr/explore/dataset/validations-sur-le-reseau-ferre-nombre-de-validations-par-jour-2e-sem/information/\n",
        "\n",
        "Récupérer les données de S1 2020 et S2 2021 pour disposer d'une année complète.\n",
        "\n",
        "On utilisera pour ce faire les commandes de téléchargement de fichiers depuis un site (pas de chargement manuel).\n",
        "\n",
        "__Attention__ : prévoir une vingtaine de minutes pour le téléchargement, au moins une première fois, et donc une copie sur Google Drive si Google Colab est utilisée, afin d'éviter ce temps d'attente lors de sessions de travail successives."
      ]
    },
    {
      "cell_type": "markdown",
      "metadata": {
        "id": "l_ENR2eQFu_O"
      },
      "source": [
        "**Nb : les fichiers sont chargés un par un. Après s'être téléchargé, les fichiers prennent le nom \"?format=csv\". Et les renomme tour à tour S_TWO_twenty.csv pour le second semestre de 2020 et S_ONE_twenty_one.csv pour le premier semestre de 2021.**\n"
      ]
    },
    {
      "cell_type": "code",
      "execution_count": null,
      "metadata": {
        "colab": {
          "base_uri": "https://localhost:8080/"
        },
        "id": "6mVDDBi4PAWT",
        "outputId": "b95b25bf-6e56-4e0f-a774-03fa0a9f7100"
      },
      "outputs": [
        {
          "output_type": "stream",
          "name": "stdout",
          "text": [
            "  % Total    % Received % Xferd  Average Speed   Time    Time     Time  Current\n",
            "                                 Dload  Upload   Total   Spent    Left  Speed\n",
            "100 47.3M    0 47.3M    0     0   151k      0 --:--:--  0:05:19 --:--:--  141k\n"
          ]
        }
      ],
      "source": [
        "!curl -O https://data.iledefrance-mobilites.fr/explore/dataset/validations-sur-le-reseau-ferre-nombre-de-validations-par-jour-2e-sem/download/?format=csv&timezone=Europe/Berlin&lang=fr&use_labels_for_header=true&csv_separator=%3B"
      ]
    },
    {
      "cell_type": "code",
      "execution_count": null,
      "metadata": {
        "colab": {
          "base_uri": "https://localhost:8080/"
        },
        "id": "fFN1iSpfmEIf",
        "outputId": "d0ccd2bb-b892-45b6-d96f-19eeb5ee832c"
      },
      "outputs": [
        {
          "output_type": "stream",
          "name": "stdout",
          "text": [
            "total 48M\n",
            "drwxr-xr-x 1 root root 4.0K Dec  3 14:33 sample_data\n",
            "-rw-r--r-- 1 root root  48M Dec 17 15:51 S_TWO_Twenty.csv\n"
          ]
        }
      ],
      "source": [
        "!ls -lh"
      ]
    },
    {
      "cell_type": "code",
      "execution_count": null,
      "metadata": {
        "colab": {
          "base_uri": "https://localhost:8080/"
        },
        "id": "yEyrctEQz3f_",
        "outputId": "983e59a5-5715-4345-8816-ced74690da6e"
      },
      "outputs": [
        {
          "output_type": "stream",
          "name": "stdout",
          "text": [
            "  % Total    % Received % Xferd  Average Speed   Time    Time     Time  Current\n",
            "                                 Dload  Upload   Total   Spent    Left  Speed\n",
            "100 24.7M    0 24.7M    0     0   189k      0 --:--:--  0:02:13 --:--:--  218k\n"
          ]
        }
      ],
      "source": [
        "!curl -O https://data.iledefrance-mobilites.fr/explore/dataset/validations-sur-le-reseau-ferre-nombre-de-validations-par-jour-1er-sem/download/?format=csv&timezone=Europe/Berlin&lang=fr&use_labels_for_header=true&csv_separator=%3B"
      ]
    },
    {
      "cell_type": "code",
      "execution_count": null,
      "metadata": {
        "colab": {
          "base_uri": "https://localhost:8080/"
        },
        "id": "1A8mzAywF5sb",
        "outputId": "f02ebf4b-08b7-4a43-ccef-2804f2c8261c"
      },
      "outputs": [
        {
          "output_type": "stream",
          "name": "stdout",
          "text": [
            "total 73M\n",
            "drwxr-xr-x 1 root root 4.0K Dec  3 14:33 sample_data\n",
            "-rw-r--r-- 1 root root  25M Dec 17 15:54 S_ONE_twenty_one.csv\n",
            "-rw-r--r-- 1 root root  48M Dec 17 15:51 S_TWO_Twenty.csv\n"
          ]
        }
      ],
      "source": [
        "!ls -lh"
      ]
    },
    {
      "cell_type": "markdown",
      "metadata": {
        "id": "JieIOSxp_8wM"
      },
      "source": [
        "### Commentaires sur les données disponibles sur ce portail\n",
        "\n",
        "Investiguer les données diponibles sur le portail.\n",
        "\n",
        "Question : peut-on constituer un historique de données s'étendant sur les trois dernières années (2019 à 2021) ?\n"
      ]
    },
    {
      "cell_type": "markdown",
      "metadata": {
        "id": "PEXg6TeoATXD"
      },
      "source": [
        "**A cette adresse https://data.iledefrance-mobilites.fr/explore/dataset/histo-validations/table/?sort=types_de_validations, il y a les données de validation du S1 2019, mais rien pour le S2 2019. Rien n'est renseigné pour le S1 2020 également. **"
      ]
    },
    {
      "cell_type": "markdown",
      "metadata": {
        "id": "9i0jSKz1Orfl"
      },
      "source": [
        "## Lecture des fichiers dans Spark\n",
        "\n",
        "Lire les fichiers en choisissant les bonnes options de lecture.\n",
        "Concaténer les données en une seule table."
      ]
    },
    {
      "cell_type": "code",
      "execution_count": null,
      "metadata": {
        "id": "3Me1V5NfYx2A"
      },
      "outputs": [],
      "source": [
        "S_TWO_twenty =spark.read.csv('/content/S_TWO_Twenty.csv', sep=';', header = True)\n",
        "S_ONE_twenty_one =spark.read.csv('/content/S_ONE_twenty_one.csv', sep=';', header = True)"
      ]
    },
    {
      "cell_type": "markdown",
      "metadata": {
        "id": "f_W1Aw6uG--u"
      },
      "source": [
        "Concaténation des fichiers"
      ]
    },
    {
      "cell_type": "code",
      "execution_count": null,
      "metadata": {
        "id": "XXxM82f-G-Bb"
      },
      "outputs": [],
      "source": [
        "validations_ddf = S_ONE_twenty_one .union(S_TWO_twenty)"
      ]
    },
    {
      "cell_type": "markdown",
      "metadata": {
        "id": "w0_Cb36HPumu"
      },
      "source": [
        "## Validation\n",
        "\n",
        "Si vous avez appelé votre dataframe `validations_ddf`, le test suivant ne doit pas générer d'erreur."
      ]
    },
    {
      "cell_type": "code",
      "execution_count": null,
      "metadata": {
        "id": "vFsa7hM5P9mm"
      },
      "outputs": [],
      "source": [
        "assert validations_ddf.count() == 1_316_287, \"Le nombre de lignes ne correspond pas\""
      ]
    },
    {
      "cell_type": "markdown",
      "metadata": {
        "id": "uUL3zXzN0nYN"
      },
      "source": [
        "Dans le cas où ce code génère une erreur, il s'agit probablement d'un problème de récupération ou de lecture des deux fichiers."
      ]
    },
    {
      "cell_type": "markdown",
      "metadata": {
        "id": "geRE6A7VOKtt"
      },
      "source": [
        "## Préparation des données\n",
        "\n",
        "Réaliser les transformations nécessaires pour exploiter ces données :\n",
        "- préparation des dates\n",
        "- transformation du nombre de validation\n",
        "\n",
        "### Explication pour le nombre de validations\n",
        "\n",
        "Analyser les valeurs prises par ce champ et déterminer le problème.\n",
        "Présenter votre stratégie pour remédier à ce choix de codage par Mobilités Ile-de-France."
      ]
    },
    {
      "cell_type": "code",
      "execution_count": null,
      "metadata": {
        "colab": {
          "base_uri": "https://localhost:8080/"
        },
        "id": "8xqnuJCw8loL",
        "outputId": "4742db4c-93dc-4091-b234-066741a20faf"
      },
      "outputs": [
        {
          "name": "stdout",
          "output_type": "stream",
          "text": [
            "root\n",
            " |-- jour: timestamp (nullable = true)\n",
            " |-- code_stif_trns: string (nullable = true)\n",
            " |-- code_stif_res: string (nullable = true)\n",
            " |-- code_stif_arret: string (nullable = true)\n",
            " |-- libelle_arret: string (nullable = true)\n",
            " |-- id_refa_lda: string (nullable = true)\n",
            " |-- categorie_titre: string (nullable = true)\n",
            " |-- nb_vald: integer (nullable = true)\n",
            "\n"
          ]
        }
      ],
      "source": [
        "validations_ddf = (validations_ddf\n",
        " .withColumn(\"nb_vald\",validations_ddf.nb_vald.cast('int'))\n",
        " .withColumn(\"jour\",validations_ddf.jour.cast('timestamp'))\n",
        ")\n",
        "\n",
        "validations_ddf.printSchema()"
      ]
    },
    {
      "cell_type": "code",
      "execution_count": null,
      "metadata": {
        "colab": {
          "base_uri": "https://localhost:8080/"
        },
        "id": "v4cIFsAKp5Ih",
        "outputId": "7192e7c1-4755-40c4-90cd-673775da1c7e"
      },
      "outputs": [
        {
          "name": "stdout",
          "output_type": "stream",
          "text": [
            "+-------------------+--------------+-------------+---------------+-------------+-----------+---------------+-------+\n",
            "|               jour|code_stif_trns|code_stif_res|code_stif_arret|libelle_arret|id_refa_lda|categorie_titre|nb_vald|\n",
            "+-------------------+--------------+-------------+---------------+-------------+-----------+---------------+-------+\n",
            "|2021-01-04 00:00:00|           100|          110|             47|       BALARD|      71073|              ?|    110|\n",
            "|2021-01-04 00:00:00|           100|          110|             47|       BALARD|      71073|    NAVIGO JOUR|      7|\n",
            "|2021-01-04 00:00:00|           100|          110|            476|  LOUIS BLANC|      71407|              ?|     24|\n",
            "|2021-01-04 00:00:00|           100|          110|            476|  LOUIS BLANC|      71407|    AUTRE TITRE|    132|\n",
            "|2021-01-04 00:00:00|           100|          110|            478|LOUISE MICHEL|      73667|            TST|    226|\n",
            "+-------------------+--------------+-------------+---------------+-------------+-----------+---------------+-------+\n",
            "only showing top 5 rows\n",
            "\n"
          ]
        }
      ],
      "source": [
        "validations_ddf.show(5)"
      ]
    },
    {
      "cell_type": "markdown",
      "metadata": {
        "id": "gYcX8vQHBNw6"
      },
      "source": [
        "Choix de codage de Mobilités Ile-de-France : le nombre de validation est renseigné par catégories de titre sur une journée. C'est à dire que pour obtenir le nombre total de validations par jour sur une seule ligne, il faudrait sommer le nombre de validations par catégories de titre pour un jour. \n",
        "Ou regrouper toutes les mêmes dates ensemble"
      ]
    },
    {
      "cell_type": "markdown",
      "metadata": {
        "id": "WeDTdkHk8lae"
      },
      "source": [
        "## Détermination des principales catégories de titre\n",
        "\n",
        "Différentes catégories de titre sont utilisées sur le réseau.\n",
        "\n",
        "Déterminer les deux catégories principalement utilisées. Seules ces catégories seront utilisées dans les travaux ci-après (les utiliser comme filtre sur les validations dans la suite)."
      ]
    },
    {
      "cell_type": "code",
      "execution_count": null,
      "metadata": {
        "colab": {
          "base_uri": "https://localhost:8080/"
        },
        "id": "Glg1H3l8CSLZ",
        "outputId": "50c169db-93b3-4f05-8bb3-b9ca8439d866"
      },
      "outputs": [
        {
          "name": "stdout",
          "output_type": "stream",
          "text": [
            "+---------------+--------+\n",
            "|categorie_titre|effectif|\n",
            "+---------------+--------+\n",
            "|         NAVIGO|  158876|\n",
            "|      IMAGINE R|  156147|\n",
            "+---------------+--------+\n",
            "only showing top 2 rows\n",
            "\n"
          ]
        }
      ],
      "source": [
        "import pyspark.sql.functions as F \n",
        "validations_ddf.groupBy('categorie_titre').agg(F.count('nb_vald').alias('effectif')).sort('effectif', ascending = False).show(2)"
      ]
    },
    {
      "cell_type": "code",
      "execution_count": null,
      "metadata": {
        "colab": {
          "base_uri": "https://localhost:8080/"
        },
        "id": "yQlDy-tDGOds",
        "outputId": "51d92633-d4b7-4d13-e907-47e338daf790"
      },
      "outputs": [
        {
          "data": {
            "text/plain": [
              "DataFrame[jour: timestamp, code_stif_trns: string, code_stif_res: string, code_stif_arret: string, libelle_arret: string, id_refa_lda: string, categorie_titre: string, nb_vald: int]"
            ]
          },
          "execution_count": 24,
          "metadata": {},
          "output_type": "execute_result"
        }
      ],
      "source": [
        "(validations_ddf\n",
        " .filter((validations_ddf.categorie_titre == \"NAVIGO\") | (validations_ddf.categorie_titre == \"IMAGINE R\"))\n",
        ")"
      ]
    },
    {
      "cell_type": "markdown",
      "metadata": {
        "id": "4iY3-EDD6QfK"
      },
      "source": [
        "## Visualisation du trafic dans une station\n",
        "\n",
        "Visualiser le trafic à la gare de Lyon pour les deux catégories de titre principales.\n",
        "\n",
        "Attention à gérer le cas des gares (comme la gare de Lyon) présentes sur plusieurs lignes et dont le libellé apparaît donc sur plusieurs lignes. Investiguer ce cas avant de déterminer la bonne façon de calculer le nombre de validations pour la gare de Lyon."
      ]
    },
    {
      "cell_type": "code",
      "execution_count": null,
      "metadata": {
        "colab": {
          "base_uri": "https://localhost:8080/"
        },
        "id": "N7kJok808_0H",
        "outputId": "04147ef0-cda7-45e6-8afb-36e614d3a667"
      },
      "outputs": [
        {
          "name": "stdout",
          "output_type": "stream",
          "text": [
            "+---------------+--------------------+\n",
            "|code_stif_arret|nb de vald par arret|\n",
            "+---------------+--------------------+\n",
            "|            317|             2874070|\n",
            "|            306|             2826705|\n",
            "|            307|              415520|\n",
            "+---------------+--------------------+\n",
            "\n"
          ]
        }
      ],
      "source": [
        "# Votre code mettant en évidence le cas des gares sur plusieurs lignes\n",
        "\n",
        "# La colonne \"code_stif_arret\" donne le code de l'arret et/ou de la station, on voit que la Gare de Lyon accueille plusieurs arrets : \n",
        "(validations_ddf\n",
        " .filter((validations_ddf.categorie_titre == \"NAVIGO\") | (validations_ddf.categorie_titre == \"IMAGINE R\"))\n",
        ".filter(validations_ddf.libelle_arret == \"GARE DE LYON\")\n",
        " .groupBy('code_stif_arret').agg(F.sum('nb_vald').alias('nb de vald par arret'))\n",
        " .show()\n",
        ")\n"
      ]
    },
    {
      "cell_type": "code",
      "execution_count": null,
      "metadata": {
        "colab": {
          "base_uri": "https://localhost:8080/"
        },
        "id": "eeOqG1Hi9EuM",
        "outputId": "520950ba-140f-4d46-e3db-8c97aa5e8042"
      },
      "outputs": [
        {
          "name": "stdout",
          "output_type": "stream",
          "text": [
            "+-------------+---------------+---------------+--------+\n",
            "|libelle_arret|categorie_titre|code_stif_arret|effectif|\n",
            "+-------------+---------------+---------------+--------+\n",
            "| GARE DE LYON|         NAVIGO|            306| 2168115|\n",
            "| GARE DE LYON|         NAVIGO|            317| 2285528|\n",
            "| GARE DE LYON|      IMAGINE R|            306|  658590|\n",
            "| GARE DE LYON|      IMAGINE R|            317|  588542|\n",
            "| GARE DE LYON|         NAVIGO|            307|  340638|\n",
            "| GARE DE LYON|      IMAGINE R|            307|   74882|\n",
            "+-------------+---------------+---------------+--------+\n",
            "\n"
          ]
        }
      ],
      "source": [
        "# Votre code visualisant le trafic à la gare de Lyon\n",
        "(validations_ddf\n",
        " .filter((validations_ddf.categorie_titre == \"NAVIGO\") | (validations_ddf.categorie_titre == \"IMAGINE R\"))\n",
        " .filter(validations_ddf.libelle_arret == \"GARE DE LYON\")\n",
        " .groupBy('libelle_arret','categorie_titre','code_stif_arret').agg(F.sum('nb_vald').alias('effectif'))\n",
        " .show()\n",
        ")"
      ]
    },
    {
      "cell_type": "code",
      "execution_count": null,
      "metadata": {
        "colab": {
          "base_uri": "https://localhost:8080/"
        },
        "id": "FulQY4_Jvzjn",
        "outputId": "fab9a6ba-10a0-483f-9b08-b84aed7823a0"
      },
      "outputs": [
        {
          "name": "stdout",
          "output_type": "stream",
          "text": [
            "+-------------+---------------+--------------------+\n",
            "|libelle_arret|categorie_titre|nb_de_vald_par_arret|\n",
            "+-------------+---------------+--------------------+\n",
            "| GARE DE LYON|         NAVIGO|             4794281|\n",
            "| GARE DE LYON|      IMAGINE R|             1322014|\n",
            "+-------------+---------------+--------------------+\n",
            "\n"
          ]
        }
      ],
      "source": [
        "(validations_ddf\n",
        " .filter((validations_ddf.categorie_titre == \"NAVIGO\") | (validations_ddf.categorie_titre == \"IMAGINE R\"))\n",
        " .filter(validations_ddf.libelle_arret == \"GARE DE LYON\")\n",
        " .groupBy('libelle_arret','categorie_titre').agg(F.sum('nb_vald').alias('nb_de_vald_par_arret'))\n",
        " .show()\n",
        ")"
      ]
    },
    {
      "cell_type": "markdown",
      "metadata": {
        "id": "2Ae6sckJdxjE"
      },
      "source": [
        "## Fluctuation du trafic hebdomadaire\n",
        "\n",
        "Calculer le trafic total et le pourcentage par jour de la semaine sur l'ensemble du réseau.\n",
        "\n",
        "Trier le résultat par ordre décroissant de validations.\n",
        "\n",
        "Note : considérer l'usage d'une fonction analytique (`Window.partitionBy()`).\n"
      ]
    },
    {
      "cell_type": "markdown",
      "metadata": {
        "id": "iFzgvvXD0f4R"
      },
      "source": [
        "dayofweek = sunday is 1, monday is 2,…, Saturday is 7 "
      ]
    },
    {
      "cell_type": "code",
      "execution_count": null,
      "metadata": {
        "colab": {
          "base_uri": "https://localhost:8080/"
        },
        "id": "buBrQocLxKgM",
        "outputId": "708443ee-a05b-4291-e030-8b9af5dc2576"
      },
      "outputs": [
        {
          "name": "stdout",
          "output_type": "stream",
          "text": [
            "+------------+--------------------+----------+\n",
            "|jour_semaine|nb_vald_sumcum_byday|% of total|\n",
            "+------------+--------------------+----------+\n",
            "|           5|            85290097|      0.17|\n",
            "|           4|            84481016|      0.17|\n",
            "|           3|            82751916|      0.17|\n",
            "|           6|            81437580|      0.17|\n",
            "|           2|            78153770|      0.16|\n",
            "|           7|            49805311|       0.1|\n",
            "|           1|            30896857|      0.06|\n",
            "+------------+--------------------+----------+\n",
            "\n"
          ]
        }
      ],
      "source": [
        "from pyspark.sql.functions import col, round\n",
        "\n",
        "prt_df = (validations_ddf\n",
        "            .filter((validations_ddf.categorie_titre == \"NAVIGO\") | (validations_ddf.categorie_titre == \"IMAGINE R\"))\n",
        "            .withColumn('jour_semaine', F.dayofweek(F.col('jour')))\n",
        "            .withColumn('num_semaine', F.weekofyear(F.col('jour')))\n",
        "            .toPandas()\n",
        "            )\n",
        "\n",
        "(validations_ddf\n",
        " .filter((validations_ddf.categorie_titre == \"NAVIGO\") | (validations_ddf.categorie_titre == \"IMAGINE R\"))\n",
        " .withColumn('jour_semaine', F.dayofweek(F.col('jour')))\n",
        " .withColumn('num_semaine', F.weekofyear(F.col('jour')))\n",
        " .groupBy('jour_semaine').agg(F.sum('NB_VALD').alias('nb_vald_sumcum_byday')).sort('nb_vald_sumcum_byday', ascending = False)\n",
        " .withColumn('% of total', round((F.col('nb_vald_sumcum_byday')/prt_df['nb_vald'].sum()),2))\n",
        " .show()\n",
        ")"
      ]
    },
    {
      "cell_type": "code",
      "execution_count": null,
      "metadata": {
        "colab": {
          "base_uri": "https://localhost:8080/"
        },
        "id": "t120M8ulPFQ9",
        "outputId": "a3ef6b77-07c7-4d6f-b35a-5a6e30e694c9"
      },
      "outputs": [
        {
          "name": "stdout",
          "output_type": "stream",
          "text": [
            "+------------+\n",
            "|sum(nb_vald)|\n",
            "+------------+\n",
            "|   492816547|\n",
            "+------------+\n",
            "\n"
          ]
        }
      ],
      "source": [
        "(validations_ddf\n",
        " .filter((validations_ddf.categorie_titre == \"NAVIGO\") | (validations_ddf.categorie_titre == \"IMAGINE R\"))\n",
        " .agg(F.sum(F.col('nb_vald')))\n",
        " ).show()"
      ]
    },
    {
      "cell_type": "markdown",
      "metadata": {
        "id": "nMN5ZAs_dRWN"
      },
      "source": [
        "## Analyse de l'impact du reconfinement d'octobre 2020\n",
        "\n",
        "Mettre en évidence graphiquement l'impact du reconfinement.\n",
        "\n",
        "N'utiliser que les catégories de titre _IMAGINE R_ et _Navigo_.\n"
      ]
    },
    {
      "cell_type": "markdown",
      "metadata": {
        "id": "X6j0IUaGANPQ"
      },
      "source": [
        "Le reconfinement d'octobre 2020 fut acté le 29 octobre 2020. L'idée serait de visualiser le nombre de validation par jour avant et après cette date. "
      ]
    },
    {
      "cell_type": "code",
      "execution_count": null,
      "metadata": {
        "colab": {
          "base_uri": "https://localhost:8080/",
          "height": 542
        },
        "id": "qtkU6913udrd",
        "outputId": "9f943867-50b6-4bb3-ef79-4ec00afd1d2f"
      },
      "outputs": [
        {
          "data": {
            "text/html": [
              "<html>\n",
              "<head><meta charset=\"utf-8\" /></head>\n",
              "<body>\n",
              "    <div>\n",
              "            <script src=\"https://cdnjs.cloudflare.com/ajax/libs/mathjax/2.7.5/MathJax.js?config=TeX-AMS-MML_SVG\"></script><script type=\"text/javascript\">if (window.MathJax) {MathJax.Hub.Config({SVG: {font: \"STIX-Web\"}});}</script>\n",
              "                <script type=\"text/javascript\">window.PlotlyConfig = {MathJaxConfig: 'local'};</script>\n",
              "        <script src=\"https://cdn.plot.ly/plotly-latest.min.js\"></script>    \n",
              "            <div id=\"f3d0dbc5-0076-4252-b4a2-d111b5b41948\" class=\"plotly-graph-div\" style=\"height:525px; width:100%;\"></div>\n",
              "            <script type=\"text/javascript\">\n",
              "                \n",
              "                    window.PLOTLYENV=window.PLOTLYENV || {};\n",
              "                    \n",
              "                if (document.getElementById(\"f3d0dbc5-0076-4252-b4a2-d111b5b41948\")) {\n",
              "                    Plotly.newPlot(\n",
              "                        'f3d0dbc5-0076-4252-b4a2-d111b5b41948',\n",
              "                        [{\"type\": \"scatter\", \"x\": [\"2020-07-01T00:00:00\", \"2020-07-02T00:00:00\", \"2020-07-03T00:00:00\", \"2020-07-04T00:00:00\", \"2020-07-05T00:00:00\", \"2020-07-06T00:00:00\", \"2020-07-07T00:00:00\", \"2020-07-08T00:00:00\", \"2020-07-09T00:00:00\", \"2020-07-10T00:00:00\", \"2020-07-11T00:00:00\", \"2020-07-12T00:00:00\", \"2020-07-13T00:00:00\", \"2020-07-14T00:00:00\", \"2020-07-15T00:00:00\", \"2020-07-16T00:00:00\", \"2020-07-17T00:00:00\", \"2020-07-18T00:00:00\", \"2020-07-19T00:00:00\", \"2020-07-20T00:00:00\", \"2020-07-21T00:00:00\", \"2020-07-22T00:00:00\", \"2020-07-23T00:00:00\", \"2020-07-24T00:00:00\", \"2020-07-25T00:00:00\", \"2020-07-26T00:00:00\", \"2020-07-27T00:00:00\", \"2020-07-28T00:00:00\", \"2020-07-29T00:00:00\", \"2020-07-30T00:00:00\", \"2020-07-31T00:00:00\", \"2020-08-01T00:00:00\", \"2020-08-02T00:00:00\", \"2020-08-03T00:00:00\", \"2020-08-04T00:00:00\", \"2020-08-05T00:00:00\", \"2020-08-06T00:00:00\", \"2020-08-07T00:00:00\", \"2020-08-08T00:00:00\", \"2020-08-09T00:00:00\", \"2020-08-10T00:00:00\", \"2020-08-11T00:00:00\", \"2020-08-12T00:00:00\", \"2020-08-13T00:00:00\", \"2020-08-14T00:00:00\", \"2020-08-15T00:00:00\", \"2020-08-16T00:00:00\", \"2020-08-17T00:00:00\", \"2020-08-18T00:00:00\", \"2020-08-19T00:00:00\", \"2020-08-20T00:00:00\", \"2020-08-21T00:00:00\", \"2020-08-22T00:00:00\", \"2020-08-23T00:00:00\", \"2020-08-24T00:00:00\", \"2020-08-25T00:00:00\", \"2020-08-26T00:00:00\", \"2020-08-27T00:00:00\", \"2020-08-28T00:00:00\", \"2020-08-29T00:00:00\", \"2020-08-30T00:00:00\", \"2020-08-31T00:00:00\", \"2020-09-01T00:00:00\", \"2020-09-02T00:00:00\", \"2020-09-03T00:00:00\", \"2020-09-04T00:00:00\", \"2020-09-05T00:00:00\", \"2020-09-06T00:00:00\", \"2020-09-07T00:00:00\", \"2020-09-08T00:00:00\", \"2020-09-09T00:00:00\", \"2020-09-10T00:00:00\", \"2020-09-11T00:00:00\", \"2020-09-12T00:00:00\", \"2020-09-13T00:00:00\", \"2020-09-14T00:00:00\", \"2020-09-15T00:00:00\", \"2020-09-16T00:00:00\", \"2020-09-17T00:00:00\", \"2020-09-18T00:00:00\", \"2020-09-19T00:00:00\", \"2020-09-20T00:00:00\", \"2020-09-21T00:00:00\", \"2020-09-22T00:00:00\", \"2020-09-23T00:00:00\", \"2020-09-24T00:00:00\", \"2020-09-25T00:00:00\", \"2020-09-26T00:00:00\", \"2020-09-27T00:00:00\", \"2020-09-28T00:00:00\", \"2020-09-29T00:00:00\", \"2020-09-30T00:00:00\", \"2020-10-01T00:00:00\", \"2020-10-02T00:00:00\", \"2020-10-03T00:00:00\", \"2020-10-04T00:00:00\", \"2020-10-05T00:00:00\", \"2020-10-06T00:00:00\", \"2020-10-07T00:00:00\", \"2020-10-08T00:00:00\", \"2020-10-09T00:00:00\", \"2020-10-10T00:00:00\", \"2020-10-11T00:00:00\", \"2020-10-12T00:00:00\", \"2020-10-13T00:00:00\", \"2020-10-14T00:00:00\", \"2020-10-15T00:00:00\", \"2020-10-16T00:00:00\", \"2020-10-17T00:00:00\", \"2020-10-18T00:00:00\", \"2020-10-19T00:00:00\", \"2020-10-20T00:00:00\", \"2020-10-21T00:00:00\", \"2020-10-22T00:00:00\", \"2020-10-23T00:00:00\", \"2020-10-24T00:00:00\", \"2020-10-25T00:00:00\", \"2020-10-26T00:00:00\", \"2020-10-27T00:00:00\", \"2020-10-28T00:00:00\", \"2020-10-29T00:00:00\", \"2020-10-30T00:00:00\", \"2020-10-31T00:00:00\", \"2020-11-01T00:00:00\", \"2020-11-02T00:00:00\", \"2020-11-03T00:00:00\", \"2020-11-04T00:00:00\", \"2020-11-05T00:00:00\", \"2020-11-06T00:00:00\", \"2020-11-07T00:00:00\", \"2020-11-08T00:00:00\", \"2020-11-09T00:00:00\", \"2020-11-10T00:00:00\", \"2020-11-11T00:00:00\", \"2020-11-12T00:00:00\", \"2020-11-13T00:00:00\", \"2020-11-14T00:00:00\", \"2020-11-15T00:00:00\", \"2020-11-16T00:00:00\", \"2020-11-17T00:00:00\", \"2020-11-18T00:00:00\", \"2020-11-19T00:00:00\", \"2020-11-20T00:00:00\", \"2020-11-21T00:00:00\", \"2020-11-22T00:00:00\", \"2020-11-23T00:00:00\", \"2020-11-24T00:00:00\", \"2020-11-25T00:00:00\", \"2020-11-26T00:00:00\", \"2020-11-27T00:00:00\", \"2020-11-28T00:00:00\", \"2020-11-29T00:00:00\", \"2020-11-30T00:00:00\", \"2020-12-01T00:00:00\", \"2020-12-02T00:00:00\", \"2020-12-03T00:00:00\", \"2020-12-04T00:00:00\", \"2020-12-05T00:00:00\", \"2020-12-06T00:00:00\", \"2020-12-07T00:00:00\", \"2020-12-08T00:00:00\", \"2020-12-09T00:00:00\", \"2020-12-10T00:00:00\", \"2020-12-11T00:00:00\", \"2020-12-12T00:00:00\", \"2020-12-13T00:00:00\", \"2020-12-14T00:00:00\", \"2020-12-15T00:00:00\", \"2020-12-16T00:00:00\", \"2020-12-17T00:00:00\", \"2020-12-18T00:00:00\", \"2020-12-19T00:00:00\", \"2020-12-20T00:00:00\", \"2020-12-21T00:00:00\", \"2020-12-22T00:00:00\", \"2020-12-23T00:00:00\", \"2020-12-24T00:00:00\", \"2020-12-25T00:00:00\", \"2020-12-26T00:00:00\", \"2020-12-27T00:00:00\", \"2020-12-28T00:00:00\", \"2020-12-29T00:00:00\", \"2020-12-30T00:00:00\", \"2020-12-31T00:00:00\", \"2021-01-01T00:00:00\", \"2021-01-02T00:00:00\", \"2021-01-03T00:00:00\", \"2021-01-04T00:00:00\", \"2021-01-05T00:00:00\", \"2021-01-06T00:00:00\", \"2021-01-07T00:00:00\", \"2021-01-08T00:00:00\", \"2021-01-09T00:00:00\", \"2021-01-10T00:00:00\", \"2021-01-11T00:00:00\", \"2021-01-12T00:00:00\", \"2021-01-13T00:00:00\", \"2021-01-14T00:00:00\", \"2021-01-15T00:00:00\", \"2021-01-16T00:00:00\", \"2021-01-17T00:00:00\", \"2021-01-18T00:00:00\", \"2021-01-19T00:00:00\", \"2021-01-20T00:00:00\", \"2021-01-21T00:00:00\", \"2021-01-22T00:00:00\", \"2021-01-23T00:00:00\", \"2021-01-24T00:00:00\", \"2021-01-25T00:00:00\", \"2021-01-26T00:00:00\", \"2021-01-27T00:00:00\", \"2021-01-28T00:00:00\", \"2021-01-29T00:00:00\", \"2021-01-30T00:00:00\", \"2021-01-31T00:00:00\", \"2021-02-01T00:00:00\", \"2021-02-02T00:00:00\", \"2021-02-03T00:00:00\", \"2021-02-04T00:00:00\", \"2021-02-05T00:00:00\", \"2021-02-06T00:00:00\", \"2021-02-07T00:00:00\", \"2021-02-08T00:00:00\", \"2021-02-09T00:00:00\", \"2021-02-10T00:00:00\", \"2021-02-11T00:00:00\", \"2021-02-12T00:00:00\", \"2021-02-13T00:00:00\", \"2021-02-14T00:00:00\", \"2021-02-15T00:00:00\", \"2021-02-16T00:00:00\", \"2021-02-17T00:00:00\", \"2021-02-18T00:00:00\", \"2021-02-19T00:00:00\", \"2021-02-20T00:00:00\", \"2021-02-21T00:00:00\", \"2021-02-22T00:00:00\", \"2021-02-23T00:00:00\", \"2021-02-24T00:00:00\", \"2021-02-25T00:00:00\", \"2021-02-26T00:00:00\", \"2021-02-27T00:00:00\", \"2021-02-28T00:00:00\", \"2021-03-01T00:00:00\", \"2021-03-02T00:00:00\", \"2021-03-03T00:00:00\", \"2021-03-04T00:00:00\", \"2021-03-05T00:00:00\", \"2021-03-06T00:00:00\", \"2021-03-07T00:00:00\", \"2021-03-08T00:00:00\", \"2021-03-09T00:00:00\", \"2021-03-10T00:00:00\", \"2021-03-11T00:00:00\", \"2021-03-12T00:00:00\", \"2021-03-13T00:00:00\", \"2021-03-14T00:00:00\", \"2021-03-15T00:00:00\", \"2021-03-16T00:00:00\", \"2021-03-17T00:00:00\", \"2021-03-18T00:00:00\", \"2021-03-19T00:00:00\", \"2021-03-20T00:00:00\", \"2021-03-21T00:00:00\", \"2021-03-22T00:00:00\", \"2021-03-23T00:00:00\", \"2021-03-24T00:00:00\", \"2021-03-25T00:00:00\", \"2021-03-26T00:00:00\", \"2021-03-27T00:00:00\", \"2021-03-28T00:00:00\", \"2021-03-29T00:00:00\", \"2021-03-30T00:00:00\", \"2021-03-31T00:00:00\", \"2021-04-01T00:00:00\", \"2021-04-02T00:00:00\", \"2021-04-03T00:00:00\", \"2021-04-04T00:00:00\", \"2021-04-05T00:00:00\", \"2021-04-06T00:00:00\", \"2021-04-07T00:00:00\", \"2021-04-08T00:00:00\", \"2021-04-09T00:00:00\", \"2021-04-10T00:00:00\", \"2021-04-11T00:00:00\", \"2021-04-12T00:00:00\", \"2021-04-13T00:00:00\", \"2021-04-14T00:00:00\", \"2021-04-15T00:00:00\", \"2021-04-16T00:00:00\", \"2021-04-17T00:00:00\", \"2021-04-18T00:00:00\", \"2021-04-19T00:00:00\", \"2021-04-20T00:00:00\", \"2021-04-21T00:00:00\", \"2021-04-22T00:00:00\", \"2021-04-23T00:00:00\", \"2021-04-24T00:00:00\", \"2021-04-25T00:00:00\", \"2021-04-26T00:00:00\", \"2021-04-27T00:00:00\", \"2021-04-28T00:00:00\", \"2021-04-29T00:00:00\", \"2021-04-30T00:00:00\", \"2021-05-01T00:00:00\", \"2021-05-02T00:00:00\", \"2021-05-03T00:00:00\", \"2021-05-04T00:00:00\", \"2021-05-05T00:00:00\", \"2021-05-06T00:00:00\", \"2021-05-07T00:00:00\", \"2021-05-08T00:00:00\", \"2021-05-09T00:00:00\", \"2021-05-10T00:00:00\", \"2021-05-11T00:00:00\", \"2021-05-12T00:00:00\", \"2021-05-13T00:00:00\", \"2021-05-14T00:00:00\", \"2021-05-15T00:00:00\", \"2021-05-16T00:00:00\", \"2021-05-17T00:00:00\", \"2021-05-18T00:00:00\", \"2021-05-19T00:00:00\", \"2021-05-20T00:00:00\", \"2021-05-21T00:00:00\", \"2021-05-22T00:00:00\", \"2021-05-23T00:00:00\", \"2021-05-24T00:00:00\", \"2021-05-25T00:00:00\", \"2021-05-26T00:00:00\", \"2021-05-27T00:00:00\", \"2021-05-28T00:00:00\", \"2021-05-29T00:00:00\", \"2021-05-30T00:00:00\", \"2021-05-31T00:00:00\"], \"y\": [2201568, 2336454, 2285119, 1402071, 860098, 2225426, 2445695, 2383506, 2382583, 2282960, 1375957, 844037, 1511843, 943140, 2323033, 2077167, 2318140, 1482779, 939331, 2197715, 2252929, 2344087, 2358416, 2243064, 1412170, 912424, 2098942, 2256927, 2238132, 2198653, 1877201, 1154324, 802047, 1765765, 1893955, 1866816, 1829431, 1705456, 1023569, 712185, 1626307, 1684742, 1682663, 1549158, 1593543, 1021476, 720466, 1436780, 1808024, 1749934, 1770129, 1561535, 1146604, 839519, 1899730, 2086373, 2089458, 2121103, 2063585, 1323365, 878821, 2067519, 2522903, 2648277, 2819833, 2813341, 1609039, 1007609, 2870156, 3049598, 2970568, 3025497, 2650805, 1645564, 1079140, 2915427, 3123000, 3073500, 3038694, 3091537, 1767857, 1134638, 3061145, 3250618, 3177896, 3264948, 3149888, 1776390, 981889, 2992785, 3183742, 2573022, 2817803, 3095808, 1799859, 1033632, 3102888, 3211350, 3160885, 3223428, 3167063, 1825010, 1034397, 3073249, 3234872, 3168411, 3228602, 3183037, 1653870, 1091436, 2680000, 2814700, 2765884, 2781268, 2626942, 1553485, 970595, 2501938, 2630165, 2648304, 2918383, 1328533, 529997, 265972, 1111344, 1027490, 995516, 1041843, 1022576, 375122, 181621, 1016393, 1071963, 290300, 1054492, 1024318, 398767, 195918, 1048716, 1084696, 1030628, 1068757, 1062467, 438307, 210016, 1056420, 1095683, 1052650, 1094786, 1080234, 737968, 370358, 1169070, 1301027, 1290399, 1348025, 1383163, 888182, 476806, 1320038, 1403872, 1375480, 1420686, 1423969, 916008, 509103, 1378794, 1481322, 1456114, 1494289, 1477869, 933199, 584723, 1147105, 1188780, 1106838, 859123, 285047, 588209, 353063, 859670, 931631, 955635, 835351, 296078, 621591, 424158, 1308789, 1422737, 1417221, 1458789, 1463486, 981532, 557844, 1455402, 1546726, 1528647, 1557998, 1548155, 916294, 542257, 1428738, 1521281, 1504286, 1548807, 1510886, 983960, 565907, 1458702, 1545448, 1528893, 1556832, 1539560, 1034159, 582023, 1386241, 1501985, 1495819, 1516969, 1543348, 968411, 535372, 1452002, 1539461, 1504402, 1543010, 1506306, 976487, 562856, 1249343, 1330670, 1300666, 1295720, 1263208, 901820, 567652, 1175353, 1264227, 1295234, 1269204, 1241629, 912380, 584470, 1420218, 1535419, 1528150, 1568269, 1535932, 1017230, 601038, 1503383, 1568062, 1564421, 1582318, 1552977, 985203, 588189, 1509807, 1592578, 1575101, 1598446, 1664551, 706067, 439696, 1325920, 1389394, 1373621, 1391106, 1356697, 793292, 511249, 1290907, 1381967, 1382763, 1313954, 1293339, 720901, 464787, 438829, 1093461, 1115746, 1119709, 1111114, 686528, 430816, 1106376, 1149819, 1128801, 1139495, 1127252, 731662, 462936, 1026231, 1088008, 1084667, 1092800, 1066518, 728850, 490787, 1091291, 1178792, 1184541, 1196536, 1184419, 552717, 479697, 1346009, 1450413, 1445750, 1471762, 1456519, 748663, 541319, 1406551, 1482178, 1458227, 618317, 947022, 701322, 496536, 1407146, 1513653, 1748081, 1726967, 1697983, 1103311, 708053, 868931, 1676440, 1696475, 1764187, 1733401, 1253783, 769371, 1362436]}],\n",
              "                        {\"template\": {\"data\": {\"bar\": [{\"error_x\": {\"color\": \"#2a3f5f\"}, \"error_y\": {\"color\": \"#2a3f5f\"}, \"marker\": {\"line\": {\"color\": \"#E5ECF6\", \"width\": 0.5}}, \"type\": \"bar\"}], \"barpolar\": [{\"marker\": {\"line\": {\"color\": \"#E5ECF6\", \"width\": 0.5}}, \"type\": \"barpolar\"}], \"carpet\": [{\"aaxis\": {\"endlinecolor\": \"#2a3f5f\", \"gridcolor\": \"white\", \"linecolor\": \"white\", \"minorgridcolor\": \"white\", \"startlinecolor\": \"#2a3f5f\"}, \"baxis\": {\"endlinecolor\": \"#2a3f5f\", \"gridcolor\": \"white\", \"linecolor\": \"white\", \"minorgridcolor\": \"white\", \"startlinecolor\": \"#2a3f5f\"}, \"type\": \"carpet\"}], \"choropleth\": [{\"colorbar\": {\"outlinewidth\": 0, \"ticks\": \"\"}, \"type\": \"choropleth\"}], \"contour\": [{\"colorbar\": {\"outlinewidth\": 0, \"ticks\": \"\"}, \"colorscale\": [[0.0, \"#0d0887\"], [0.1111111111111111, \"#46039f\"], [0.2222222222222222, \"#7201a8\"], [0.3333333333333333, \"#9c179e\"], [0.4444444444444444, \"#bd3786\"], [0.5555555555555556, \"#d8576b\"], [0.6666666666666666, \"#ed7953\"], [0.7777777777777778, \"#fb9f3a\"], [0.8888888888888888, \"#fdca26\"], [1.0, \"#f0f921\"]], \"type\": \"contour\"}], \"contourcarpet\": [{\"colorbar\": {\"outlinewidth\": 0, \"ticks\": \"\"}, \"type\": \"contourcarpet\"}], \"heatmap\": [{\"colorbar\": {\"outlinewidth\": 0, \"ticks\": \"\"}, \"colorscale\": [[0.0, \"#0d0887\"], [0.1111111111111111, \"#46039f\"], [0.2222222222222222, \"#7201a8\"], [0.3333333333333333, \"#9c179e\"], [0.4444444444444444, \"#bd3786\"], [0.5555555555555556, \"#d8576b\"], [0.6666666666666666, \"#ed7953\"], [0.7777777777777778, \"#fb9f3a\"], [0.8888888888888888, \"#fdca26\"], [1.0, \"#f0f921\"]], \"type\": \"heatmap\"}], \"heatmapgl\": [{\"colorbar\": {\"outlinewidth\": 0, \"ticks\": \"\"}, \"colorscale\": [[0.0, \"#0d0887\"], [0.1111111111111111, \"#46039f\"], [0.2222222222222222, \"#7201a8\"], [0.3333333333333333, \"#9c179e\"], [0.4444444444444444, \"#bd3786\"], [0.5555555555555556, \"#d8576b\"], [0.6666666666666666, \"#ed7953\"], [0.7777777777777778, \"#fb9f3a\"], [0.8888888888888888, \"#fdca26\"], [1.0, \"#f0f921\"]], \"type\": \"heatmapgl\"}], \"histogram\": [{\"marker\": {\"colorbar\": {\"outlinewidth\": 0, \"ticks\": \"\"}}, \"type\": \"histogram\"}], \"histogram2d\": [{\"colorbar\": {\"outlinewidth\": 0, \"ticks\": \"\"}, \"colorscale\": [[0.0, \"#0d0887\"], [0.1111111111111111, \"#46039f\"], [0.2222222222222222, \"#7201a8\"], [0.3333333333333333, \"#9c179e\"], [0.4444444444444444, \"#bd3786\"], [0.5555555555555556, \"#d8576b\"], [0.6666666666666666, \"#ed7953\"], [0.7777777777777778, \"#fb9f3a\"], [0.8888888888888888, \"#fdca26\"], [1.0, \"#f0f921\"]], \"type\": \"histogram2d\"}], \"histogram2dcontour\": [{\"colorbar\": {\"outlinewidth\": 0, \"ticks\": \"\"}, \"colorscale\": [[0.0, \"#0d0887\"], [0.1111111111111111, \"#46039f\"], [0.2222222222222222, \"#7201a8\"], [0.3333333333333333, \"#9c179e\"], [0.4444444444444444, \"#bd3786\"], [0.5555555555555556, \"#d8576b\"], [0.6666666666666666, \"#ed7953\"], [0.7777777777777778, \"#fb9f3a\"], [0.8888888888888888, \"#fdca26\"], [1.0, \"#f0f921\"]], \"type\": \"histogram2dcontour\"}], \"mesh3d\": [{\"colorbar\": {\"outlinewidth\": 0, \"ticks\": \"\"}, \"type\": \"mesh3d\"}], \"parcoords\": [{\"line\": {\"colorbar\": {\"outlinewidth\": 0, \"ticks\": \"\"}}, \"type\": \"parcoords\"}], \"pie\": [{\"automargin\": true, \"type\": \"pie\"}], \"scatter\": [{\"marker\": {\"colorbar\": {\"outlinewidth\": 0, \"ticks\": \"\"}}, \"type\": \"scatter\"}], \"scatter3d\": [{\"line\": {\"colorbar\": {\"outlinewidth\": 0, \"ticks\": \"\"}}, \"marker\": {\"colorbar\": {\"outlinewidth\": 0, \"ticks\": \"\"}}, \"type\": \"scatter3d\"}], \"scattercarpet\": [{\"marker\": {\"colorbar\": {\"outlinewidth\": 0, \"ticks\": \"\"}}, \"type\": \"scattercarpet\"}], \"scattergeo\": [{\"marker\": {\"colorbar\": {\"outlinewidth\": 0, \"ticks\": \"\"}}, \"type\": \"scattergeo\"}], \"scattergl\": [{\"marker\": {\"colorbar\": {\"outlinewidth\": 0, \"ticks\": \"\"}}, \"type\": \"scattergl\"}], \"scattermapbox\": [{\"marker\": {\"colorbar\": {\"outlinewidth\": 0, \"ticks\": \"\"}}, \"type\": \"scattermapbox\"}], \"scatterpolar\": [{\"marker\": {\"colorbar\": {\"outlinewidth\": 0, \"ticks\": \"\"}}, \"type\": \"scatterpolar\"}], \"scatterpolargl\": [{\"marker\": {\"colorbar\": {\"outlinewidth\": 0, \"ticks\": \"\"}}, \"type\": \"scatterpolargl\"}], \"scatterternary\": [{\"marker\": {\"colorbar\": {\"outlinewidth\": 0, \"ticks\": \"\"}}, \"type\": \"scatterternary\"}], \"surface\": [{\"colorbar\": {\"outlinewidth\": 0, \"ticks\": \"\"}, \"colorscale\": [[0.0, \"#0d0887\"], [0.1111111111111111, \"#46039f\"], [0.2222222222222222, \"#7201a8\"], [0.3333333333333333, \"#9c179e\"], [0.4444444444444444, \"#bd3786\"], [0.5555555555555556, \"#d8576b\"], [0.6666666666666666, \"#ed7953\"], [0.7777777777777778, \"#fb9f3a\"], [0.8888888888888888, \"#fdca26\"], [1.0, \"#f0f921\"]], \"type\": \"surface\"}], \"table\": [{\"cells\": {\"fill\": {\"color\": \"#EBF0F8\"}, \"line\": {\"color\": \"white\"}}, \"header\": {\"fill\": {\"color\": \"#C8D4E3\"}, \"line\": {\"color\": \"white\"}}, \"type\": \"table\"}]}, \"layout\": {\"annotationdefaults\": {\"arrowcolor\": \"#2a3f5f\", \"arrowhead\": 0, \"arrowwidth\": 1}, \"coloraxis\": {\"colorbar\": {\"outlinewidth\": 0, \"ticks\": \"\"}}, \"colorscale\": {\"diverging\": [[0, \"#8e0152\"], [0.1, \"#c51b7d\"], [0.2, \"#de77ae\"], [0.3, \"#f1b6da\"], [0.4, \"#fde0ef\"], [0.5, \"#f7f7f7\"], [0.6, \"#e6f5d0\"], [0.7, \"#b8e186\"], [0.8, \"#7fbc41\"], [0.9, \"#4d9221\"], [1, \"#276419\"]], \"sequential\": [[0.0, \"#0d0887\"], [0.1111111111111111, \"#46039f\"], [0.2222222222222222, \"#7201a8\"], [0.3333333333333333, \"#9c179e\"], [0.4444444444444444, \"#bd3786\"], [0.5555555555555556, \"#d8576b\"], [0.6666666666666666, \"#ed7953\"], [0.7777777777777778, \"#fb9f3a\"], [0.8888888888888888, \"#fdca26\"], [1.0, \"#f0f921\"]], \"sequentialminus\": [[0.0, \"#0d0887\"], [0.1111111111111111, \"#46039f\"], [0.2222222222222222, \"#7201a8\"], [0.3333333333333333, \"#9c179e\"], [0.4444444444444444, \"#bd3786\"], [0.5555555555555556, \"#d8576b\"], [0.6666666666666666, \"#ed7953\"], [0.7777777777777778, \"#fb9f3a\"], [0.8888888888888888, \"#fdca26\"], [1.0, \"#f0f921\"]]}, \"colorway\": [\"#636efa\", \"#EF553B\", \"#00cc96\", \"#ab63fa\", \"#FFA15A\", \"#19d3f3\", \"#FF6692\", \"#B6E880\", \"#FF97FF\", \"#FECB52\"], \"font\": {\"color\": \"#2a3f5f\"}, \"geo\": {\"bgcolor\": \"white\", \"lakecolor\": \"white\", \"landcolor\": \"#E5ECF6\", \"showlakes\": true, \"showland\": true, \"subunitcolor\": \"white\"}, \"hoverlabel\": {\"align\": \"left\"}, \"hovermode\": \"closest\", \"mapbox\": {\"style\": \"light\"}, \"paper_bgcolor\": \"white\", \"plot_bgcolor\": \"#E5ECF6\", \"polar\": {\"angularaxis\": {\"gridcolor\": \"white\", \"linecolor\": \"white\", \"ticks\": \"\"}, \"bgcolor\": \"#E5ECF6\", \"radialaxis\": {\"gridcolor\": \"white\", \"linecolor\": \"white\", \"ticks\": \"\"}}, \"scene\": {\"xaxis\": {\"backgroundcolor\": \"#E5ECF6\", \"gridcolor\": \"white\", \"gridwidth\": 2, \"linecolor\": \"white\", \"showbackground\": true, \"ticks\": \"\", \"zerolinecolor\": \"white\"}, \"yaxis\": {\"backgroundcolor\": \"#E5ECF6\", \"gridcolor\": \"white\", \"gridwidth\": 2, \"linecolor\": \"white\", \"showbackground\": true, \"ticks\": \"\", \"zerolinecolor\": \"white\"}, \"zaxis\": {\"backgroundcolor\": \"#E5ECF6\", \"gridcolor\": \"white\", \"gridwidth\": 2, \"linecolor\": \"white\", \"showbackground\": true, \"ticks\": \"\", \"zerolinecolor\": \"white\"}}, \"shapedefaults\": {\"line\": {\"color\": \"#2a3f5f\"}}, \"ternary\": {\"aaxis\": {\"gridcolor\": \"white\", \"linecolor\": \"white\", \"ticks\": \"\"}, \"baxis\": {\"gridcolor\": \"white\", \"linecolor\": \"white\", \"ticks\": \"\"}, \"bgcolor\": \"#E5ECF6\", \"caxis\": {\"gridcolor\": \"white\", \"linecolor\": \"white\", \"ticks\": \"\"}}, \"title\": {\"x\": 0.05}, \"xaxis\": {\"automargin\": true, \"gridcolor\": \"white\", \"linecolor\": \"white\", \"ticks\": \"\", \"title\": {\"standoff\": 15}, \"zerolinecolor\": \"white\", \"zerolinewidth\": 2}, \"yaxis\": {\"automargin\": true, \"gridcolor\": \"white\", \"linecolor\": \"white\", \"ticks\": \"\", \"title\": {\"standoff\": 15}, \"zerolinecolor\": \"white\", \"zerolinewidth\": 2}}}, \"title\": {\"text\": \"Analyse quotidienne du trafic 07/2020-05/2021\"}, \"xaxis\": {\"rangeselector\": {\"buttons\": [{\"count\": 1, \"label\": \"1d\", \"step\": \"day\", \"stepmode\": \"backward\"}, {\"count\": 6, \"label\": \"6d\", \"step\": \"day\", \"stepmode\": \"backward\"}, {\"step\": \"all\"}]}, \"rangeslider\": {\"visible\": true}, \"type\": \"date\"}},\n",
              "                        {\"responsive\": true}\n",
              "                    ).then(function(){\n",
              "                            \n",
              "var gd = document.getElementById('f3d0dbc5-0076-4252-b4a2-d111b5b41948');\n",
              "var x = new MutationObserver(function (mutations, observer) {{\n",
              "        var display = window.getComputedStyle(gd).display;\n",
              "        if (!display || display === 'none') {{\n",
              "            console.log([gd, 'removed!']);\n",
              "            Plotly.purge(gd);\n",
              "            observer.disconnect();\n",
              "        }}\n",
              "}});\n",
              "\n",
              "// Listen for the removal of the full notebook cells\n",
              "var notebookContainer = gd.closest('#notebook-container');\n",
              "if (notebookContainer) {{\n",
              "    x.observe(notebookContainer, {childList: true});\n",
              "}}\n",
              "\n",
              "// Listen for the clearing of the current output cell\n",
              "var outputEl = gd.closest('.output');\n",
              "if (outputEl) {{\n",
              "    x.observe(outputEl, {childList: true});\n",
              "}}\n",
              "\n",
              "                        })\n",
              "                };\n",
              "                \n",
              "            </script>\n",
              "        </div>\n",
              "</body>\n",
              "</html>"
            ]
          },
          "metadata": {},
          "output_type": "display_data"
        }
      ],
      "source": [
        "import seaborn as sns \n",
        "import plotly.graph_objects as go\n",
        "sns.set()\n",
        "\n",
        "\n",
        "prt2_df = (validations_ddf\n",
        "            .filter((validations_ddf.categorie_titre == \"NAVIGO\") | (validations_ddf.categorie_titre == \"IMAGINE R\"))\n",
        "            .groupBy('jour').agg(F.sum('nb_vald').alias('tot_vald'))\n",
        "            .toPandas()\n",
        "            )\n",
        "\n",
        "\n",
        "data_prt = [go.Scatter(x = prt2_df.sort_values('jour')['jour'],\n",
        "                         y = prt2_df.sort_values('jour')['tot_vald'])]\n",
        "\n",
        "\n",
        "    # Disposition (layout)\n",
        "layout = dict(\n",
        "        title='Analyse quotidienne du trafic 07/2020-05/2021',\n",
        "        xaxis=dict(\n",
        "            rangeselector=dict(\n",
        "                buttons=list([\n",
        "                    dict(count=1,\n",
        "                         label='1d',\n",
        "                         step='day',\n",
        "                         stepmode='backward'),\n",
        "                    dict(count=6,\n",
        "                         label='6d',\n",
        "                         step='day',\n",
        "                         stepmode='backward'),\n",
        "                    dict(step='all')\n",
        "                ])\n",
        "            ),\n",
        "            rangeslider=dict(\n",
        "                visible = True\n",
        "            ),\n",
        "            type='date'\n",
        "        )\n",
        ")\n",
        "\n",
        "    # Affichage (version 4 de plotly nécessaire pour Colab)\n",
        "fig = go.Figure(\n",
        "        data=data_prt,\n",
        "        layout=layout)\n",
        "    \n",
        "fig.show()"
      ]
    },
    {
      "cell_type": "markdown",
      "metadata": {
        "id": "QYNecvg2zbWE"
      },
      "source": [
        "#### Bonus\n",
        "\n",
        "Calculer la moyenne glissante sur 7 jours par categorie de titre pour réduire les variations hebdomadaires."
      ]
    },
    {
      "cell_type": "code",
      "execution_count": null,
      "metadata": {
        "colab": {
          "base_uri": "https://localhost:8080/",
          "height": 542
        },
        "id": "QpcMPoCCjHte",
        "outputId": "d66eb463-94d3-4396-d047-1778397fad42"
      },
      "outputs": [
        {
          "data": {
            "text/html": [
              "<html>\n",
              "<head><meta charset=\"utf-8\" /></head>\n",
              "<body>\n",
              "    <div>\n",
              "            <script src=\"https://cdnjs.cloudflare.com/ajax/libs/mathjax/2.7.5/MathJax.js?config=TeX-AMS-MML_SVG\"></script><script type=\"text/javascript\">if (window.MathJax) {MathJax.Hub.Config({SVG: {font: \"STIX-Web\"}});}</script>\n",
              "                <script type=\"text/javascript\">window.PlotlyConfig = {MathJaxConfig: 'local'};</script>\n",
              "        <script src=\"https://cdn.plot.ly/plotly-latest.min.js\"></script>    \n",
              "            <div id=\"01f6ae58-8f48-43f0-9729-225a22c40ad6\" class=\"plotly-graph-div\" style=\"height:525px; width:100%;\"></div>\n",
              "            <script type=\"text/javascript\">\n",
              "                \n",
              "                    window.PLOTLYENV=window.PLOTLYENV || {};\n",
              "                    \n",
              "                if (document.getElementById(\"01f6ae58-8f48-43f0-9729-225a22c40ad6\")) {\n",
              "                    Plotly.newPlot(\n",
              "                        '01f6ae58-8f48-43f0-9729-225a22c40ad6',\n",
              "                        [{\"type\": \"scatter\", \"x\": [\"2020-07-01T00:00:00\", \"2020-07-02T00:00:00\", \"2020-07-03T00:00:00\", \"2020-07-04T00:00:00\", \"2020-07-05T00:00:00\", \"2020-07-06T00:00:00\", \"2020-07-07T00:00:00\", \"2020-07-08T00:00:00\", \"2020-07-09T00:00:00\", \"2020-07-10T00:00:00\", \"2020-07-11T00:00:00\", \"2020-07-12T00:00:00\", \"2020-07-13T00:00:00\", \"2020-07-14T00:00:00\", \"2020-07-15T00:00:00\", \"2020-07-16T00:00:00\", \"2020-07-17T00:00:00\", \"2020-07-18T00:00:00\", \"2020-07-19T00:00:00\", \"2020-07-20T00:00:00\", \"2020-07-21T00:00:00\", \"2020-07-22T00:00:00\", \"2020-07-23T00:00:00\", \"2020-07-24T00:00:00\", \"2020-07-25T00:00:00\", \"2020-07-26T00:00:00\", \"2020-07-27T00:00:00\", \"2020-07-28T00:00:00\", \"2020-07-29T00:00:00\", \"2020-07-30T00:00:00\", \"2020-07-31T00:00:00\", \"2020-08-01T00:00:00\", \"2020-08-02T00:00:00\", \"2020-08-03T00:00:00\", \"2020-08-04T00:00:00\", \"2020-08-05T00:00:00\", \"2020-08-06T00:00:00\", \"2020-08-07T00:00:00\", \"2020-08-08T00:00:00\", \"2020-08-09T00:00:00\", \"2020-08-10T00:00:00\", \"2020-08-11T00:00:00\", \"2020-08-12T00:00:00\", \"2020-08-13T00:00:00\", \"2020-08-14T00:00:00\", \"2020-08-15T00:00:00\", \"2020-08-16T00:00:00\", \"2020-08-17T00:00:00\", \"2020-08-18T00:00:00\", \"2020-08-19T00:00:00\", \"2020-08-20T00:00:00\", \"2020-08-21T00:00:00\", \"2020-08-22T00:00:00\", \"2020-08-23T00:00:00\", \"2020-08-24T00:00:00\", \"2020-08-25T00:00:00\", \"2020-08-26T00:00:00\", \"2020-08-27T00:00:00\", \"2020-08-28T00:00:00\", \"2020-08-29T00:00:00\", \"2020-08-30T00:00:00\", \"2020-08-31T00:00:00\", \"2020-09-01T00:00:00\", \"2020-09-02T00:00:00\", \"2020-09-03T00:00:00\", \"2020-09-04T00:00:00\", \"2020-09-05T00:00:00\", \"2020-09-06T00:00:00\", \"2020-09-07T00:00:00\", \"2020-09-08T00:00:00\", \"2020-09-09T00:00:00\", \"2020-09-10T00:00:00\", \"2020-09-11T00:00:00\", \"2020-09-12T00:00:00\", \"2020-09-13T00:00:00\", \"2020-09-14T00:00:00\", \"2020-09-15T00:00:00\", \"2020-09-16T00:00:00\", \"2020-09-17T00:00:00\", \"2020-09-18T00:00:00\", \"2020-09-19T00:00:00\", \"2020-09-20T00:00:00\", \"2020-09-21T00:00:00\", \"2020-09-22T00:00:00\", \"2020-09-23T00:00:00\", \"2020-09-24T00:00:00\", \"2020-09-25T00:00:00\", \"2020-09-26T00:00:00\", \"2020-09-27T00:00:00\", \"2020-09-28T00:00:00\", \"2020-09-29T00:00:00\", \"2020-09-30T00:00:00\", \"2020-10-01T00:00:00\", \"2020-10-02T00:00:00\", \"2020-10-03T00:00:00\", \"2020-10-04T00:00:00\", \"2020-10-05T00:00:00\", \"2020-10-06T00:00:00\", \"2020-10-07T00:00:00\", \"2020-10-08T00:00:00\", \"2020-10-09T00:00:00\", \"2020-10-10T00:00:00\", \"2020-10-11T00:00:00\", \"2020-10-12T00:00:00\", \"2020-10-13T00:00:00\", \"2020-10-14T00:00:00\", \"2020-10-15T00:00:00\", \"2020-10-16T00:00:00\", \"2020-10-17T00:00:00\", \"2020-10-18T00:00:00\", \"2020-10-19T00:00:00\", \"2020-10-20T00:00:00\", \"2020-10-21T00:00:00\", \"2020-10-22T00:00:00\", \"2020-10-23T00:00:00\", \"2020-10-24T00:00:00\", \"2020-10-25T00:00:00\", \"2020-10-26T00:00:00\", \"2020-10-27T00:00:00\", \"2020-10-28T00:00:00\", \"2020-10-29T00:00:00\", \"2020-10-30T00:00:00\", \"2020-10-31T00:00:00\", \"2020-11-01T00:00:00\", \"2020-11-02T00:00:00\", \"2020-11-03T00:00:00\", \"2020-11-04T00:00:00\", \"2020-11-05T00:00:00\", \"2020-11-06T00:00:00\", \"2020-11-07T00:00:00\", \"2020-11-08T00:00:00\", \"2020-11-09T00:00:00\", \"2020-11-10T00:00:00\", \"2020-11-11T00:00:00\", \"2020-11-12T00:00:00\", \"2020-11-13T00:00:00\", \"2020-11-14T00:00:00\", \"2020-11-15T00:00:00\", \"2020-11-16T00:00:00\", \"2020-11-17T00:00:00\", \"2020-11-18T00:00:00\", \"2020-11-19T00:00:00\", \"2020-11-20T00:00:00\", \"2020-11-21T00:00:00\", \"2020-11-22T00:00:00\", \"2020-11-23T00:00:00\", \"2020-11-24T00:00:00\", \"2020-11-25T00:00:00\", \"2020-11-26T00:00:00\", \"2020-11-27T00:00:00\", \"2020-11-28T00:00:00\", \"2020-11-29T00:00:00\", \"2020-11-30T00:00:00\", \"2020-12-01T00:00:00\", \"2020-12-02T00:00:00\", \"2020-12-03T00:00:00\", \"2020-12-04T00:00:00\", \"2020-12-05T00:00:00\", \"2020-12-06T00:00:00\", \"2020-12-07T00:00:00\", \"2020-12-08T00:00:00\", \"2020-12-09T00:00:00\", \"2020-12-10T00:00:00\", \"2020-12-11T00:00:00\", \"2020-12-12T00:00:00\", \"2020-12-13T00:00:00\", \"2020-12-14T00:00:00\", \"2020-12-15T00:00:00\", \"2020-12-16T00:00:00\", \"2020-12-17T00:00:00\", \"2020-12-18T00:00:00\", \"2020-12-19T00:00:00\", \"2020-12-20T00:00:00\", \"2020-12-21T00:00:00\", \"2020-12-22T00:00:00\", \"2020-12-23T00:00:00\", \"2020-12-24T00:00:00\", \"2020-12-25T00:00:00\", \"2020-12-26T00:00:00\", \"2020-12-27T00:00:00\", \"2020-12-28T00:00:00\", \"2020-12-29T00:00:00\", \"2020-12-30T00:00:00\", \"2020-12-31T00:00:00\", \"2021-01-01T00:00:00\", \"2021-01-02T00:00:00\", \"2021-01-03T00:00:00\", \"2021-01-04T00:00:00\", \"2021-01-05T00:00:00\", \"2021-01-06T00:00:00\", \"2021-01-07T00:00:00\", \"2021-01-08T00:00:00\", \"2021-01-09T00:00:00\", \"2021-01-10T00:00:00\", \"2021-01-11T00:00:00\", \"2021-01-12T00:00:00\", \"2021-01-13T00:00:00\", \"2021-01-14T00:00:00\", \"2021-01-15T00:00:00\", \"2021-01-16T00:00:00\", \"2021-01-17T00:00:00\", \"2021-01-18T00:00:00\", \"2021-01-19T00:00:00\", \"2021-01-20T00:00:00\", \"2021-01-21T00:00:00\", \"2021-01-22T00:00:00\", \"2021-01-23T00:00:00\", \"2021-01-24T00:00:00\", \"2021-01-25T00:00:00\", \"2021-01-26T00:00:00\", \"2021-01-27T00:00:00\", \"2021-01-28T00:00:00\", \"2021-01-29T00:00:00\", \"2021-01-30T00:00:00\", \"2021-01-31T00:00:00\", \"2021-02-01T00:00:00\", \"2021-02-02T00:00:00\", \"2021-02-03T00:00:00\", \"2021-02-04T00:00:00\", \"2021-02-05T00:00:00\", \"2021-02-06T00:00:00\", \"2021-02-07T00:00:00\", \"2021-02-08T00:00:00\", \"2021-02-09T00:00:00\", \"2021-02-10T00:00:00\", \"2021-02-11T00:00:00\", \"2021-02-12T00:00:00\", \"2021-02-13T00:00:00\", \"2021-02-14T00:00:00\", \"2021-02-15T00:00:00\", \"2021-02-16T00:00:00\", \"2021-02-17T00:00:00\", \"2021-02-18T00:00:00\", \"2021-02-19T00:00:00\", \"2021-02-20T00:00:00\", \"2021-02-21T00:00:00\", \"2021-02-22T00:00:00\", \"2021-02-23T00:00:00\", \"2021-02-24T00:00:00\", \"2021-02-25T00:00:00\", \"2021-02-26T00:00:00\", \"2021-02-27T00:00:00\", \"2021-02-28T00:00:00\", \"2021-03-01T00:00:00\", \"2021-03-02T00:00:00\", \"2021-03-03T00:00:00\", \"2021-03-04T00:00:00\", \"2021-03-05T00:00:00\", \"2021-03-06T00:00:00\", \"2021-03-07T00:00:00\", \"2021-03-08T00:00:00\", \"2021-03-09T00:00:00\", \"2021-03-10T00:00:00\", \"2021-03-11T00:00:00\", \"2021-03-12T00:00:00\", \"2021-03-13T00:00:00\", \"2021-03-14T00:00:00\", \"2021-03-15T00:00:00\", \"2021-03-16T00:00:00\", \"2021-03-17T00:00:00\", \"2021-03-18T00:00:00\", \"2021-03-19T00:00:00\", \"2021-03-20T00:00:00\", \"2021-03-21T00:00:00\", \"2021-03-22T00:00:00\", \"2021-03-23T00:00:00\", \"2021-03-24T00:00:00\", \"2021-03-25T00:00:00\", \"2021-03-26T00:00:00\", \"2021-03-27T00:00:00\", \"2021-03-28T00:00:00\", \"2021-03-29T00:00:00\", \"2021-03-30T00:00:00\", \"2021-03-31T00:00:00\", \"2021-04-01T00:00:00\", \"2021-04-02T00:00:00\", \"2021-04-03T00:00:00\", \"2021-04-04T00:00:00\", \"2021-04-05T00:00:00\", \"2021-04-06T00:00:00\", \"2021-04-07T00:00:00\", \"2021-04-08T00:00:00\", \"2021-04-09T00:00:00\", \"2021-04-10T00:00:00\", \"2021-04-11T00:00:00\", \"2021-04-12T00:00:00\", \"2021-04-13T00:00:00\", \"2021-04-14T00:00:00\", \"2021-04-15T00:00:00\", \"2021-04-16T00:00:00\", \"2021-04-17T00:00:00\", \"2021-04-18T00:00:00\", \"2021-04-19T00:00:00\", \"2021-04-20T00:00:00\", \"2021-04-21T00:00:00\", \"2021-04-22T00:00:00\", \"2021-04-23T00:00:00\", \"2021-04-24T00:00:00\", \"2021-04-25T00:00:00\", \"2021-04-26T00:00:00\", \"2021-04-27T00:00:00\", \"2021-04-28T00:00:00\", \"2021-04-29T00:00:00\", \"2021-04-30T00:00:00\", \"2021-05-01T00:00:00\", \"2021-05-02T00:00:00\", \"2021-05-03T00:00:00\", \"2021-05-04T00:00:00\", \"2021-05-05T00:00:00\", \"2021-05-06T00:00:00\", \"2021-05-07T00:00:00\", \"2021-05-08T00:00:00\", \"2021-05-09T00:00:00\", \"2021-05-10T00:00:00\", \"2021-05-11T00:00:00\", \"2021-05-12T00:00:00\", \"2021-05-13T00:00:00\", \"2021-05-14T00:00:00\", \"2021-05-15T00:00:00\", \"2021-05-16T00:00:00\", \"2021-05-17T00:00:00\", \"2021-05-18T00:00:00\", \"2021-05-19T00:00:00\", \"2021-05-20T00:00:00\", \"2021-05-21T00:00:00\", \"2021-05-22T00:00:00\", \"2021-05-23T00:00:00\", \"2021-05-24T00:00:00\", \"2021-05-25T00:00:00\", \"2021-05-26T00:00:00\", \"2021-05-27T00:00:00\", \"2021-05-28T00:00:00\", \"2021-05-29T00:00:00\", \"2021-05-30T00:00:00\", \"2021-05-31T00:00:00\"], \"y\": [null, null, null, null, null, null, 1965204.4285714286, 1991195.5714285714, 1997785.4285714286, 1997477.0, 1993746.4285714286, 1991452.0, 1889511.5714285714, 1674860.857142857, 1666221.857142857, 1622591.0, 1627616.7142857143, 1642877.0, 1656490.4285714286, 1754472.142857143, 1941584.857142857, 1944592.5714285714, 1984771.0, 1974045.857142857, 1963958.857142857, 1960115.0, 1946004.5714285714, 1946575.7142857143, 1931439.2857142857, 1908616.0, 1856349.857142857, 1819514.7142857143, 1803746.5714285714, 1756149.857142857, 1704296.7142857143, 1651251.5714285714, 1598505.5714285714, 1573970.5714285714, 1555291.2857142857, 1542453.857142857, 1522531.2857142857, 1492643.7142857143, 1466336.142857143, 1426297.142857143, 1410309.5714285714, 1410010.5714285714, 1411193.5714285714, 1384118.2857142857, 1401730.0, 1411340.142857143, 1442907.4285714286, 1438334.857142857, 1456210.2857142857, 1473217.857142857, 1539353.5714285714, 1579117.7142857143, 1627621.142857143, 1677760.2857142857, 1749481.7142857143, 1774733.2857142857, 1780347.857142857, 1804317.7142857143, 1866679.142857143, 1946510.4285714286, 2046329.0, 2153437.0, 2194247.5714285714, 2212645.8571428573, 2327308.285714286, 2402550.4285714286, 2448592.0, 2477972.5714285714, 2454753.1428571427, 2459971.0, 2470189.714285714, 2476657.0, 2487143.0, 2501847.5714285714, 2503732.8571428573, 2566694.5714285714, 2584165.0, 2592093.285714286, 2612910.1428571427, 2631141.285714286, 2646055.0, 2678377.0, 2686712.8571428573, 2687931.8571428573, 2666110.5714285714, 2656344.8571428573, 2646791.1428571427, 2560380.5714285714, 2496502.714285714, 2488777.0, 2492129.714285714, 2499521.5714285714, 2515250.5714285714, 2519194.5714285714, 2603175.0, 2661121.4285714286, 2671300.714285714, 2674893.714285714, 2675003.0, 2670768.8571428573, 2674129.1428571427, 2675204.285714286, 2675943.4285714286, 2678225.4285714286, 2653776.8571428573, 2661925.285714286, 2605746.8571428573, 2545722.285714286, 2488218.4285714286, 2424313.5714285714, 2344871.4285714286, 2330530.714285714, 2313267.714285714, 2287830.285714286, 2261468.1428571427, 2244671.0, 2264258.8571428573, 2078771.857142857, 1932559.2857142857, 1831898.857142857, 1633242.5714285714, 1404289.0, 1168176.4285714286, 900099.2857142857, 856391.1428571428, 834266.1428571428, 822216.0, 808651.5714285715, 815004.8571428572, 714259.7142857143, 716066.7142857143, 716315.5714285715, 719693.4285714285, 721735.8571428572, 726353.4285714285, 728172.4285714285, 833933.5714285715, 835971.4285714285, 841421.2857142857, 847069.8571428572, 849083.8571428572, 850184.4285714285, 851754.0, 854900.0, 858618.4285714285, 861156.5714285715, 903965.2857142857, 926871.2857142857, 942964.1428571428, 972299.0, 1006263.1428571428, 1042440.1428571428, 1085715.7142857143, 1107174.857142857, 1122381.7142857143, 1143948.5714285714, 1158640.7142857143, 1170795.142857143, 1181175.2857142857, 1187004.7142857143, 1190979.857142857, 1195593.7142857143, 1203987.4285714286, 1215051.7142857143, 1226570.857142857, 1237085.5714285714, 1244785.5714285714, 1247241.4285714286, 1258044.2857142857, 1224945.857142857, 1183154.142857143, 1133257.5714285714, 1042519.5714285715, 872116.4285714285, 822832.1428571428, 789737.8571428572, 748675.7142857143, 711940.1428571428, 690339.7142857143, 686943.7142857143, 688519.5714285715, 693288.4285714285, 703444.8571428572, 767604.7142857143, 837762.7142857143, 903703.5714285715, 992766.1428571428, 1159538.7142857143, 1210958.857142857, 1230056.857142857, 1251001.5714285714, 1268714.2857142857, 1284632.2857142857, 1298805.0, 1310900.5714285714, 1301580.857142857, 1299354.142857143, 1295545.0, 1291910.0, 1288429.857142857, 1287116.857142857, 1281792.7142857143, 1291459.2857142857, 1294837.857142857, 1299118.4285714286, 1302570.857142857, 1306086.142857143, 1307232.5714285714, 1311328.857142857, 1318500.142857143, 1320802.4285714286, 1310450.857142857, 1304241.857142857, 1299517.0, 1293822.2857142857, 1294363.4285714286, 1284970.857142857, 1278306.4285714286, 1287700.857142857, 1293054.5714285714, 1294280.7142857143, 1298000.857142857, 1292709.142857143, 1293862.857142857, 1297789.142857143, 1268837.857142857, 1239010.5714285714, 1209905.4285714286, 1174578.2857142857, 1139850.0, 1129183.2857142857, 1129868.4285714286, 1119298.4285714286, 1109806.5714285714, 1109030.5714285714, 1105242.5714285714, 1102159.857142857, 1103668.4285714286, 1106071.0, 1141051.7142857143, 1179793.4285714286, 1213067.142857143, 1255790.7142857143, 1297834.0, 1312812.5714285714, 1315179.4285714286, 1327060.142857143, 1331723.4285714286, 1336905.0, 1338912.0, 1341347.0, 1336771.7142857143, 1334936.142857143, 1335853.857142857, 1339356.142857143, 1340881.857142857, 1343185.857142857, 1359125.0, 1319248.4285714286, 1298035.142857143, 1271765.5714285714, 1242739.2857142857, 1213956.4285714286, 1184336.4285714286, 1140357.2857142857, 1152818.0, 1163039.857142857, 1158038.0, 1156977.0, 1158283.0, 1147261.2857142857, 1138210.142857143, 1127868.5714285714, 1121231.142857143, 999505.7142857143, 958290.5714285715, 920145.2857142857, 892396.0, 866363.8571428572, 861453.4285714285, 856600.4285714285, 951964.2857142857, 960015.4285714285, 961880.4285714285, 964707.0, 967012.4285714285, 973460.1428571428, 978048.7142857143, 966599.4285714285, 957769.2857142857, 951464.4285714285, 944793.7142857143, 936117.4285714285, 935715.7142857143, 939694.4285714285, 948988.7142857143, 961957.8571428572, 976225.5714285715, 991045.0, 1007888.0, 982726.1428571428, 981141.8571428572, 1017530.1428571428, 1056333.142857143, 1093648.7142857143, 1132966.7142857143, 1171838.142857143, 1199830.4285714286, 1208633.5714285714, 1217282.4285714286, 1221820.2857142857, 1223602.7142857143, 1101682.0, 1028896.7142857143, 1022133.7142857143, 1015736.1428571428, 1015821.1428571428, 1020317.5714285715, 1061725.2857142857, 1220103.857142857, 1327384.0, 1384811.0, 1415027.7142857143, 1338139.857142857, 1361395.142857143, 1354022.857142857, 1359340.0, 1364399.7142857143, 1385895.7142857143, 1394655.4285714286, 1465156.142857143]}],\n",
              "                        {\"template\": {\"data\": {\"bar\": [{\"error_x\": {\"color\": \"#2a3f5f\"}, \"error_y\": {\"color\": \"#2a3f5f\"}, \"marker\": {\"line\": {\"color\": \"#E5ECF6\", \"width\": 0.5}}, \"type\": \"bar\"}], \"barpolar\": [{\"marker\": {\"line\": {\"color\": \"#E5ECF6\", \"width\": 0.5}}, \"type\": \"barpolar\"}], \"carpet\": [{\"aaxis\": {\"endlinecolor\": \"#2a3f5f\", \"gridcolor\": \"white\", \"linecolor\": \"white\", \"minorgridcolor\": \"white\", \"startlinecolor\": \"#2a3f5f\"}, \"baxis\": {\"endlinecolor\": \"#2a3f5f\", \"gridcolor\": \"white\", \"linecolor\": \"white\", \"minorgridcolor\": \"white\", \"startlinecolor\": \"#2a3f5f\"}, \"type\": \"carpet\"}], \"choropleth\": [{\"colorbar\": {\"outlinewidth\": 0, \"ticks\": \"\"}, \"type\": \"choropleth\"}], \"contour\": [{\"colorbar\": {\"outlinewidth\": 0, \"ticks\": \"\"}, \"colorscale\": [[0.0, \"#0d0887\"], [0.1111111111111111, \"#46039f\"], [0.2222222222222222, \"#7201a8\"], [0.3333333333333333, \"#9c179e\"], [0.4444444444444444, \"#bd3786\"], [0.5555555555555556, \"#d8576b\"], [0.6666666666666666, \"#ed7953\"], [0.7777777777777778, \"#fb9f3a\"], [0.8888888888888888, \"#fdca26\"], [1.0, \"#f0f921\"]], \"type\": \"contour\"}], \"contourcarpet\": [{\"colorbar\": {\"outlinewidth\": 0, \"ticks\": \"\"}, \"type\": \"contourcarpet\"}], \"heatmap\": [{\"colorbar\": {\"outlinewidth\": 0, \"ticks\": \"\"}, \"colorscale\": [[0.0, \"#0d0887\"], [0.1111111111111111, \"#46039f\"], [0.2222222222222222, \"#7201a8\"], [0.3333333333333333, \"#9c179e\"], [0.4444444444444444, \"#bd3786\"], [0.5555555555555556, \"#d8576b\"], [0.6666666666666666, \"#ed7953\"], [0.7777777777777778, \"#fb9f3a\"], [0.8888888888888888, \"#fdca26\"], [1.0, \"#f0f921\"]], \"type\": \"heatmap\"}], \"heatmapgl\": [{\"colorbar\": {\"outlinewidth\": 0, \"ticks\": \"\"}, \"colorscale\": [[0.0, \"#0d0887\"], [0.1111111111111111, \"#46039f\"], [0.2222222222222222, \"#7201a8\"], [0.3333333333333333, \"#9c179e\"], [0.4444444444444444, \"#bd3786\"], [0.5555555555555556, \"#d8576b\"], [0.6666666666666666, \"#ed7953\"], [0.7777777777777778, \"#fb9f3a\"], [0.8888888888888888, \"#fdca26\"], [1.0, \"#f0f921\"]], \"type\": \"heatmapgl\"}], \"histogram\": [{\"marker\": {\"colorbar\": {\"outlinewidth\": 0, \"ticks\": \"\"}}, \"type\": \"histogram\"}], \"histogram2d\": [{\"colorbar\": {\"outlinewidth\": 0, \"ticks\": \"\"}, \"colorscale\": [[0.0, \"#0d0887\"], [0.1111111111111111, \"#46039f\"], [0.2222222222222222, \"#7201a8\"], [0.3333333333333333, \"#9c179e\"], [0.4444444444444444, \"#bd3786\"], [0.5555555555555556, \"#d8576b\"], [0.6666666666666666, \"#ed7953\"], [0.7777777777777778, \"#fb9f3a\"], [0.8888888888888888, \"#fdca26\"], [1.0, \"#f0f921\"]], \"type\": \"histogram2d\"}], \"histogram2dcontour\": [{\"colorbar\": {\"outlinewidth\": 0, \"ticks\": \"\"}, \"colorscale\": [[0.0, \"#0d0887\"], [0.1111111111111111, \"#46039f\"], [0.2222222222222222, \"#7201a8\"], [0.3333333333333333, \"#9c179e\"], [0.4444444444444444, \"#bd3786\"], [0.5555555555555556, \"#d8576b\"], [0.6666666666666666, \"#ed7953\"], [0.7777777777777778, \"#fb9f3a\"], [0.8888888888888888, \"#fdca26\"], [1.0, \"#f0f921\"]], \"type\": \"histogram2dcontour\"}], \"mesh3d\": [{\"colorbar\": {\"outlinewidth\": 0, \"ticks\": \"\"}, \"type\": \"mesh3d\"}], \"parcoords\": [{\"line\": {\"colorbar\": {\"outlinewidth\": 0, \"ticks\": \"\"}}, \"type\": \"parcoords\"}], \"pie\": [{\"automargin\": true, \"type\": \"pie\"}], \"scatter\": [{\"marker\": {\"colorbar\": {\"outlinewidth\": 0, \"ticks\": \"\"}}, \"type\": \"scatter\"}], \"scatter3d\": [{\"line\": {\"colorbar\": {\"outlinewidth\": 0, \"ticks\": \"\"}}, \"marker\": {\"colorbar\": {\"outlinewidth\": 0, \"ticks\": \"\"}}, \"type\": \"scatter3d\"}], \"scattercarpet\": [{\"marker\": {\"colorbar\": {\"outlinewidth\": 0, \"ticks\": \"\"}}, \"type\": \"scattercarpet\"}], \"scattergeo\": [{\"marker\": {\"colorbar\": {\"outlinewidth\": 0, \"ticks\": \"\"}}, \"type\": \"scattergeo\"}], \"scattergl\": [{\"marker\": {\"colorbar\": {\"outlinewidth\": 0, \"ticks\": \"\"}}, \"type\": \"scattergl\"}], \"scattermapbox\": [{\"marker\": {\"colorbar\": {\"outlinewidth\": 0, \"ticks\": \"\"}}, \"type\": \"scattermapbox\"}], \"scatterpolar\": [{\"marker\": {\"colorbar\": {\"outlinewidth\": 0, \"ticks\": \"\"}}, \"type\": \"scatterpolar\"}], \"scatterpolargl\": [{\"marker\": {\"colorbar\": {\"outlinewidth\": 0, \"ticks\": \"\"}}, \"type\": \"scatterpolargl\"}], \"scatterternary\": [{\"marker\": {\"colorbar\": {\"outlinewidth\": 0, \"ticks\": \"\"}}, \"type\": \"scatterternary\"}], \"surface\": [{\"colorbar\": {\"outlinewidth\": 0, \"ticks\": \"\"}, \"colorscale\": [[0.0, \"#0d0887\"], [0.1111111111111111, \"#46039f\"], [0.2222222222222222, \"#7201a8\"], [0.3333333333333333, \"#9c179e\"], [0.4444444444444444, \"#bd3786\"], [0.5555555555555556, \"#d8576b\"], [0.6666666666666666, \"#ed7953\"], [0.7777777777777778, \"#fb9f3a\"], [0.8888888888888888, \"#fdca26\"], [1.0, \"#f0f921\"]], \"type\": \"surface\"}], \"table\": [{\"cells\": {\"fill\": {\"color\": \"#EBF0F8\"}, \"line\": {\"color\": \"white\"}}, \"header\": {\"fill\": {\"color\": \"#C8D4E3\"}, \"line\": {\"color\": \"white\"}}, \"type\": \"table\"}]}, \"layout\": {\"annotationdefaults\": {\"arrowcolor\": \"#2a3f5f\", \"arrowhead\": 0, \"arrowwidth\": 1}, \"coloraxis\": {\"colorbar\": {\"outlinewidth\": 0, \"ticks\": \"\"}}, \"colorscale\": {\"diverging\": [[0, \"#8e0152\"], [0.1, \"#c51b7d\"], [0.2, \"#de77ae\"], [0.3, \"#f1b6da\"], [0.4, \"#fde0ef\"], [0.5, \"#f7f7f7\"], [0.6, \"#e6f5d0\"], [0.7, \"#b8e186\"], [0.8, \"#7fbc41\"], [0.9, \"#4d9221\"], [1, \"#276419\"]], \"sequential\": [[0.0, \"#0d0887\"], [0.1111111111111111, \"#46039f\"], [0.2222222222222222, \"#7201a8\"], [0.3333333333333333, \"#9c179e\"], [0.4444444444444444, \"#bd3786\"], [0.5555555555555556, \"#d8576b\"], [0.6666666666666666, \"#ed7953\"], [0.7777777777777778, \"#fb9f3a\"], [0.8888888888888888, \"#fdca26\"], [1.0, \"#f0f921\"]], \"sequentialminus\": [[0.0, \"#0d0887\"], [0.1111111111111111, \"#46039f\"], [0.2222222222222222, \"#7201a8\"], [0.3333333333333333, \"#9c179e\"], [0.4444444444444444, \"#bd3786\"], [0.5555555555555556, \"#d8576b\"], [0.6666666666666666, \"#ed7953\"], [0.7777777777777778, \"#fb9f3a\"], [0.8888888888888888, \"#fdca26\"], [1.0, \"#f0f921\"]]}, \"colorway\": [\"#636efa\", \"#EF553B\", \"#00cc96\", \"#ab63fa\", \"#FFA15A\", \"#19d3f3\", \"#FF6692\", \"#B6E880\", \"#FF97FF\", \"#FECB52\"], \"font\": {\"color\": \"#2a3f5f\"}, \"geo\": {\"bgcolor\": \"white\", \"lakecolor\": \"white\", \"landcolor\": \"#E5ECF6\", \"showlakes\": true, \"showland\": true, \"subunitcolor\": \"white\"}, \"hoverlabel\": {\"align\": \"left\"}, \"hovermode\": \"closest\", \"mapbox\": {\"style\": \"light\"}, \"paper_bgcolor\": \"white\", \"plot_bgcolor\": \"#E5ECF6\", \"polar\": {\"angularaxis\": {\"gridcolor\": \"white\", \"linecolor\": \"white\", \"ticks\": \"\"}, \"bgcolor\": \"#E5ECF6\", \"radialaxis\": {\"gridcolor\": \"white\", \"linecolor\": \"white\", \"ticks\": \"\"}}, \"scene\": {\"xaxis\": {\"backgroundcolor\": \"#E5ECF6\", \"gridcolor\": \"white\", \"gridwidth\": 2, \"linecolor\": \"white\", \"showbackground\": true, \"ticks\": \"\", \"zerolinecolor\": \"white\"}, \"yaxis\": {\"backgroundcolor\": \"#E5ECF6\", \"gridcolor\": \"white\", \"gridwidth\": 2, \"linecolor\": \"white\", \"showbackground\": true, \"ticks\": \"\", \"zerolinecolor\": \"white\"}, \"zaxis\": {\"backgroundcolor\": \"#E5ECF6\", \"gridcolor\": \"white\", \"gridwidth\": 2, \"linecolor\": \"white\", \"showbackground\": true, \"ticks\": \"\", \"zerolinecolor\": \"white\"}}, \"shapedefaults\": {\"line\": {\"color\": \"#2a3f5f\"}}, \"ternary\": {\"aaxis\": {\"gridcolor\": \"white\", \"linecolor\": \"white\", \"ticks\": \"\"}, \"baxis\": {\"gridcolor\": \"white\", \"linecolor\": \"white\", \"ticks\": \"\"}, \"bgcolor\": \"#E5ECF6\", \"caxis\": {\"gridcolor\": \"white\", \"linecolor\": \"white\", \"ticks\": \"\"}}, \"title\": {\"x\": 0.05}, \"xaxis\": {\"automargin\": true, \"gridcolor\": \"white\", \"linecolor\": \"white\", \"ticks\": \"\", \"title\": {\"standoff\": 15}, \"zerolinecolor\": \"white\", \"zerolinewidth\": 2}, \"yaxis\": {\"automargin\": true, \"gridcolor\": \"white\", \"linecolor\": \"white\", \"ticks\": \"\", \"title\": {\"standoff\": 15}, \"zerolinecolor\": \"white\", \"zerolinewidth\": 2}}}, \"title\": {\"text\": \"Moyenne glissante par p\\u00e9riode de 7 jours avec rolling\"}, \"xaxis\": {\"rangeselector\": {\"buttons\": [{\"count\": 1, \"label\": \"1d\", \"step\": \"day\", \"stepmode\": \"backward\"}, {\"count\": 6, \"label\": \"6d\", \"step\": \"day\", \"stepmode\": \"backward\"}, {\"step\": \"all\"}]}, \"rangeslider\": {\"visible\": true}, \"type\": \"date\"}},\n",
              "                        {\"responsive\": true}\n",
              "                    ).then(function(){\n",
              "                            \n",
              "var gd = document.getElementById('01f6ae58-8f48-43f0-9729-225a22c40ad6');\n",
              "var x = new MutationObserver(function (mutations, observer) {{\n",
              "        var display = window.getComputedStyle(gd).display;\n",
              "        if (!display || display === 'none') {{\n",
              "            console.log([gd, 'removed!']);\n",
              "            Plotly.purge(gd);\n",
              "            observer.disconnect();\n",
              "        }}\n",
              "}});\n",
              "\n",
              "// Listen for the removal of the full notebook cells\n",
              "var notebookContainer = gd.closest('#notebook-container');\n",
              "if (notebookContainer) {{\n",
              "    x.observe(notebookContainer, {childList: true});\n",
              "}}\n",
              "\n",
              "// Listen for the clearing of the current output cell\n",
              "var outputEl = gd.closest('.output');\n",
              "if (outputEl) {{\n",
              "    x.observe(outputEl, {childList: true});\n",
              "}}\n",
              "\n",
              "                        })\n",
              "                };\n",
              "                \n",
              "            </script>\n",
              "        </div>\n",
              "</body>\n",
              "</html>"
            ]
          },
          "metadata": {},
          "output_type": "display_data"
        }
      ],
      "source": [
        "rolling_prt = (validations_ddf\n",
        " .filter((validations_ddf.categorie_titre == \"NAVIGO\") | (validations_ddf.categorie_titre == \"IMAGINE R\"))\n",
        " .groupBy('JOUR').agg(F.sum('NB_VALD').alias('nb_vald_sumcum_byday'))\n",
        " .toPandas()\n",
        ")\n",
        "\n",
        "rolling_prt = rolling_prt.sort_values('JOUR', ascending=True)\n",
        "rolling_prt[\"MA\"] = rolling_prt['nb_vald_sumcum_byday'].rolling(window=7, center = False).mean()\n",
        "rolling_qui_glisse = [go.Scatter(x = rolling_prt.sort_values('JOUR')['JOUR'],\n",
        "                         y = rolling_prt.sort_values('JOUR')['MA'])]\n",
        "\n",
        "\n",
        "    # Disposition (layout)\n",
        "layout = dict(\n",
        "        title='Moyenne glissante par période de 7 jours avec rolling',\n",
        "        xaxis=dict(\n",
        "            rangeselector=dict(\n",
        "                buttons=list([\n",
        "                    dict(count=1,\n",
        "                         label='1d',\n",
        "                         step='day',\n",
        "                         stepmode='backward'),\n",
        "                    dict(count=6,\n",
        "                         label='6d',\n",
        "                         step='day',\n",
        "                         stepmode='backward'),\n",
        "                    dict(step='all')\n",
        "                ])\n",
        "            ),\n",
        "            rangeslider=dict(\n",
        "                visible = True\n",
        "            ),\n",
        "            type='date'\n",
        "        )\n",
        ")\n",
        "\n",
        "    # Affichage (version 4 de plotly nécessaire pour Colab)\n",
        "fig = go.Figure(\n",
        "        data=rolling_qui_glisse,\n",
        "        layout=layout)\n",
        "    \n",
        "fig.show()"
      ]
    },
    {
      "cell_type": "markdown",
      "metadata": {
        "id": "XjTPspGbAecD"
      },
      "source": [
        "# Modélisation avec Apache Spark\n",
        "\n",
        "On essaie de faire un modèle basique de prévision du trafic dans les 7 prochains jours, pour une station.\n",
        "\n",
        "Apache Spark MLlib n'intègre pas de modèle pour les séries chronologiques.\n",
        "\n",
        "L'approche classique est alors d'utiliser une technique de régression classique (régression linéaire bien sûr, mais aussi RandomForestRegressor par exemple).\n",
        "\n",
        "Pour une première version simple, utiliser un vecteur constituer des validations sur les 14 jours précédents (X) pour prédire les validations du jour (y). Dans cette version, on utilisera une `LinearRegression` ou un `RandomForestRegressor`, au choix.\n",
        "\n",
        "Le code doit comporter :\n",
        "- la préparation des _features_ (X)\n",
        "- la constitution d'un ensemble d'apprentissage et de test\n",
        "- l'entrainement d'un modèle\n",
        "- le mesure de la performance du modèle : RMSE\n",
        "\n",
        "Rappel : ne travailler que sur les deux catégories de titre principales.\n"
      ]
    },
    {
      "cell_type": "markdown",
      "metadata": {
        "id": "FflZkvP69DVd"
      },
      "source": [
        "## Première version simple \n",
        "\n",
        "Hypothèses : \n",
        "0n filtre le jeu de données sur les 2 principales catégories de titres et sur une seule station (via \"LIBELLE_ARRET\"). \n",
        "On somme le nombre de validation par jour (dans le cas où il y a plusieurs arrets dans une même station)"
      ]
    },
    {
      "cell_type": "code",
      "execution_count": null,
      "metadata": {
        "colab": {
          "base_uri": "https://localhost:8080/",
          "height": 215
        },
        "id": "BYphtUtZem21",
        "outputId": "4bee74f5-028b-45f3-966a-8c4838b614ee"
      },
      "outputs": [
        {
          "data": {
            "text/html": [
              "\n",
              "  <div id=\"df-4cb8c14b-24d6-4b89-91c3-92eb4d0521d0\">\n",
              "    <div class=\"colab-df-container\">\n",
              "      <div>\n",
              "<style scoped>\n",
              "    .dataframe tbody tr th:only-of-type {\n",
              "        vertical-align: middle;\n",
              "    }\n",
              "\n",
              "    .dataframe tbody tr th {\n",
              "        vertical-align: top;\n",
              "    }\n",
              "\n",
              "    .dataframe thead th {\n",
              "        text-align: right;\n",
              "    }\n",
              "</style>\n",
              "<table border=\"1\" class=\"dataframe\">\n",
              "  <thead>\n",
              "    <tr style=\"text-align: right;\">\n",
              "      <th></th>\n",
              "      <th>jour</th>\n",
              "      <th>tot_vald</th>\n",
              "    </tr>\n",
              "  </thead>\n",
              "  <tbody>\n",
              "    <tr>\n",
              "      <th>0</th>\n",
              "      <td>2020-07-01</td>\n",
              "      <td>25190</td>\n",
              "    </tr>\n",
              "    <tr>\n",
              "      <th>1</th>\n",
              "      <td>2020-07-02</td>\n",
              "      <td>25507</td>\n",
              "    </tr>\n",
              "    <tr>\n",
              "      <th>2</th>\n",
              "      <td>2020-07-03</td>\n",
              "      <td>24853</td>\n",
              "    </tr>\n",
              "    <tr>\n",
              "      <th>3</th>\n",
              "      <td>2020-07-04</td>\n",
              "      <td>15121</td>\n",
              "    </tr>\n",
              "    <tr>\n",
              "      <th>4</th>\n",
              "      <td>2020-07-05</td>\n",
              "      <td>14846</td>\n",
              "    </tr>\n",
              "  </tbody>\n",
              "</table>\n",
              "</div>\n",
              "      <button class=\"colab-df-convert\" onclick=\"convertToInteractive('df-4cb8c14b-24d6-4b89-91c3-92eb4d0521d0')\"\n",
              "              title=\"Convert this dataframe to an interactive table.\"\n",
              "              style=\"display:none;\">\n",
              "        \n",
              "  <svg xmlns=\"http://www.w3.org/2000/svg\" height=\"24px\"viewBox=\"0 0 24 24\"\n",
              "       width=\"24px\">\n",
              "    <path d=\"M0 0h24v24H0V0z\" fill=\"none\"/>\n",
              "    <path d=\"M18.56 5.44l.94 2.06.94-2.06 2.06-.94-2.06-.94-.94-2.06-.94 2.06-2.06.94zm-11 1L8.5 8.5l.94-2.06 2.06-.94-2.06-.94L8.5 2.5l-.94 2.06-2.06.94zm10 10l.94 2.06.94-2.06 2.06-.94-2.06-.94-.94-2.06-.94 2.06-2.06.94z\"/><path d=\"M17.41 7.96l-1.37-1.37c-.4-.4-.92-.59-1.43-.59-.52 0-1.04.2-1.43.59L10.3 9.45l-7.72 7.72c-.78.78-.78 2.05 0 2.83L4 21.41c.39.39.9.59 1.41.59.51 0 1.02-.2 1.41-.59l7.78-7.78 2.81-2.81c.8-.78.8-2.07 0-2.86zM5.41 20L4 18.59l7.72-7.72 1.47 1.35L5.41 20z\"/>\n",
              "  </svg>\n",
              "      </button>\n",
              "      \n",
              "  <style>\n",
              "    .colab-df-container {\n",
              "      display:flex;\n",
              "      flex-wrap:wrap;\n",
              "      gap: 12px;\n",
              "    }\n",
              "\n",
              "    .colab-df-convert {\n",
              "      background-color: #E8F0FE;\n",
              "      border: none;\n",
              "      border-radius: 50%;\n",
              "      cursor: pointer;\n",
              "      display: none;\n",
              "      fill: #1967D2;\n",
              "      height: 32px;\n",
              "      padding: 0 0 0 0;\n",
              "      width: 32px;\n",
              "    }\n",
              "\n",
              "    .colab-df-convert:hover {\n",
              "      background-color: #E2EBFA;\n",
              "      box-shadow: 0px 1px 2px rgba(60, 64, 67, 0.3), 0px 1px 3px 1px rgba(60, 64, 67, 0.15);\n",
              "      fill: #174EA6;\n",
              "    }\n",
              "\n",
              "    [theme=dark] .colab-df-convert {\n",
              "      background-color: #3B4455;\n",
              "      fill: #D2E3FC;\n",
              "    }\n",
              "\n",
              "    [theme=dark] .colab-df-convert:hover {\n",
              "      background-color: #434B5C;\n",
              "      box-shadow: 0px 1px 3px 1px rgba(0, 0, 0, 0.15);\n",
              "      filter: drop-shadow(0px 1px 2px rgba(0, 0, 0, 0.3));\n",
              "      fill: #FFFFFF;\n",
              "    }\n",
              "  </style>\n",
              "\n",
              "      <script>\n",
              "        const buttonEl =\n",
              "          document.querySelector('#df-4cb8c14b-24d6-4b89-91c3-92eb4d0521d0 button.colab-df-convert');\n",
              "        buttonEl.style.display =\n",
              "          google.colab.kernel.accessAllowed ? 'block' : 'none';\n",
              "\n",
              "        async function convertToInteractive(key) {\n",
              "          const element = document.querySelector('#df-4cb8c14b-24d6-4b89-91c3-92eb4d0521d0');\n",
              "          const dataTable =\n",
              "            await google.colab.kernel.invokeFunction('convertToInteractive',\n",
              "                                                     [key], {});\n",
              "          if (!dataTable) return;\n",
              "\n",
              "          const docLinkHtml = 'Like what you see? Visit the ' +\n",
              "            '<a target=\"_blank\" href=https://colab.research.google.com/notebooks/data_table.ipynb>data table notebook</a>'\n",
              "            + ' to learn more about interactive tables.';\n",
              "          element.innerHTML = '';\n",
              "          dataTable['output_type'] = 'display_data';\n",
              "          await google.colab.output.renderOutput(dataTable, element);\n",
              "          const docLink = document.createElement('div');\n",
              "          docLink.innerHTML = docLinkHtml;\n",
              "          element.appendChild(docLink);\n",
              "        }\n",
              "      </script>\n",
              "    </div>\n",
              "  </div>\n",
              "  "
            ],
            "text/plain": [
              "        jour  tot_vald\n",
              "0 2020-07-01     25190\n",
              "1 2020-07-02     25507\n",
              "2 2020-07-03     24853\n",
              "3 2020-07-04     15121\n",
              "4 2020-07-05     14846"
            ]
          },
          "execution_count": 32,
          "metadata": {},
          "output_type": "execute_result"
        }
      ],
      "source": [
        "import pyspark.sql.functions as F \n",
        "first_one = (validations_ddf\n",
        " .filter((validations_ddf.categorie_titre == \"NAVIGO\") | (validations_ddf.categorie_titre == \"IMAGINE R\"))\n",
        " .filter(validations_ddf.libelle_arret == \"GARE DE LYON\")\n",
        " .groupBy('jour').agg(F.sum('nb_vald').alias('tot_vald'))\n",
        " .sort('jour', ascending = True)\n",
        " .toPandas()\n",
        ")\n",
        "\n",
        "first_one.head()"
      ]
    },
    {
      "cell_type": "markdown",
      "metadata": {
        "id": "NRIUlEWK-AM6"
      },
      "source": [
        "#### Préparations des features (X)\n",
        "\n",
        "\n",
        "\n",
        "*   On construit un jeu de données avec 14 colonnes représentant le nombre total de validations pour une station les 14 jours précédents la variable à prédire (dans la première colonne, la valeur de la veille de la variable dépendante).\n",
        "*   Le premier élément du vecteur à prédire est la première observation avec un historique complet de 14 jours (soit le 15 juillet 2020). \n"
      ]
    },
    {
      "cell_type": "code",
      "execution_count": null,
      "metadata": {
        "colab": {
          "base_uri": "https://localhost:8080/",
          "height": 206
        },
        "id": "aw6xhivGv0oN",
        "outputId": "405f34bf-a99b-4a82-d6e2-c40755c629e8"
      },
      "outputs": [
        {
          "data": {
            "text/html": [
              "\n",
              "  <div id=\"df-90cdf091-2357-4871-9c27-db497fe7a8a6\">\n",
              "    <div class=\"colab-df-container\">\n",
              "      <div>\n",
              "<style scoped>\n",
              "    .dataframe tbody tr th:only-of-type {\n",
              "        vertical-align: middle;\n",
              "    }\n",
              "\n",
              "    .dataframe tbody tr th {\n",
              "        vertical-align: top;\n",
              "    }\n",
              "\n",
              "    .dataframe thead th {\n",
              "        text-align: right;\n",
              "    }\n",
              "</style>\n",
              "<table border=\"1\" class=\"dataframe\">\n",
              "  <thead>\n",
              "    <tr style=\"text-align: right;\">\n",
              "      <th></th>\n",
              "      <th>lag1</th>\n",
              "      <th>lag2</th>\n",
              "      <th>lag3</th>\n",
              "      <th>lag4</th>\n",
              "      <th>lag5</th>\n",
              "      <th>lag6</th>\n",
              "      <th>lag7</th>\n",
              "      <th>lag8</th>\n",
              "      <th>lag9</th>\n",
              "      <th>lag10</th>\n",
              "      <th>lag11</th>\n",
              "      <th>lag12</th>\n",
              "      <th>lag13</th>\n",
              "      <th>lag14</th>\n",
              "    </tr>\n",
              "  </thead>\n",
              "  <tbody>\n",
              "    <tr>\n",
              "      <th>0</th>\n",
              "      <td>22244</td>\n",
              "      <td>21583</td>\n",
              "      <td>20081</td>\n",
              "      <td>22055</td>\n",
              "      <td>25534</td>\n",
              "      <td>25732</td>\n",
              "      <td>25605</td>\n",
              "      <td>27075</td>\n",
              "      <td>26651</td>\n",
              "      <td>14846</td>\n",
              "      <td>15121</td>\n",
              "      <td>24853</td>\n",
              "      <td>25507</td>\n",
              "      <td>25190</td>\n",
              "    </tr>\n",
              "    <tr>\n",
              "      <th>1</th>\n",
              "      <td>28446</td>\n",
              "      <td>22244</td>\n",
              "      <td>21583</td>\n",
              "      <td>20081</td>\n",
              "      <td>22055</td>\n",
              "      <td>25534</td>\n",
              "      <td>25732</td>\n",
              "      <td>25605</td>\n",
              "      <td>27075</td>\n",
              "      <td>26651</td>\n",
              "      <td>14846</td>\n",
              "      <td>15121</td>\n",
              "      <td>24853</td>\n",
              "      <td>25507</td>\n",
              "    </tr>\n",
              "    <tr>\n",
              "      <th>2</th>\n",
              "      <td>23861</td>\n",
              "      <td>28446</td>\n",
              "      <td>22244</td>\n",
              "      <td>21583</td>\n",
              "      <td>20081</td>\n",
              "      <td>22055</td>\n",
              "      <td>25534</td>\n",
              "      <td>25732</td>\n",
              "      <td>25605</td>\n",
              "      <td>27075</td>\n",
              "      <td>26651</td>\n",
              "      <td>14846</td>\n",
              "      <td>15121</td>\n",
              "      <td>24853</td>\n",
              "    </tr>\n",
              "    <tr>\n",
              "      <th>3</th>\n",
              "      <td>26863</td>\n",
              "      <td>23861</td>\n",
              "      <td>28446</td>\n",
              "      <td>22244</td>\n",
              "      <td>21583</td>\n",
              "      <td>20081</td>\n",
              "      <td>22055</td>\n",
              "      <td>25534</td>\n",
              "      <td>25732</td>\n",
              "      <td>25605</td>\n",
              "      <td>27075</td>\n",
              "      <td>26651</td>\n",
              "      <td>14846</td>\n",
              "      <td>15121</td>\n",
              "    </tr>\n",
              "    <tr>\n",
              "      <th>4</th>\n",
              "      <td>24656</td>\n",
              "      <td>26863</td>\n",
              "      <td>23861</td>\n",
              "      <td>28446</td>\n",
              "      <td>22244</td>\n",
              "      <td>21583</td>\n",
              "      <td>20081</td>\n",
              "      <td>22055</td>\n",
              "      <td>25534</td>\n",
              "      <td>25732</td>\n",
              "      <td>25605</td>\n",
              "      <td>27075</td>\n",
              "      <td>26651</td>\n",
              "      <td>14846</td>\n",
              "    </tr>\n",
              "  </tbody>\n",
              "</table>\n",
              "</div>\n",
              "      <button class=\"colab-df-convert\" onclick=\"convertToInteractive('df-90cdf091-2357-4871-9c27-db497fe7a8a6')\"\n",
              "              title=\"Convert this dataframe to an interactive table.\"\n",
              "              style=\"display:none;\">\n",
              "        \n",
              "  <svg xmlns=\"http://www.w3.org/2000/svg\" height=\"24px\"viewBox=\"0 0 24 24\"\n",
              "       width=\"24px\">\n",
              "    <path d=\"M0 0h24v24H0V0z\" fill=\"none\"/>\n",
              "    <path d=\"M18.56 5.44l.94 2.06.94-2.06 2.06-.94-2.06-.94-.94-2.06-.94 2.06-2.06.94zm-11 1L8.5 8.5l.94-2.06 2.06-.94-2.06-.94L8.5 2.5l-.94 2.06-2.06.94zm10 10l.94 2.06.94-2.06 2.06-.94-2.06-.94-.94-2.06-.94 2.06-2.06.94z\"/><path d=\"M17.41 7.96l-1.37-1.37c-.4-.4-.92-.59-1.43-.59-.52 0-1.04.2-1.43.59L10.3 9.45l-7.72 7.72c-.78.78-.78 2.05 0 2.83L4 21.41c.39.39.9.59 1.41.59.51 0 1.02-.2 1.41-.59l7.78-7.78 2.81-2.81c.8-.78.8-2.07 0-2.86zM5.41 20L4 18.59l7.72-7.72 1.47 1.35L5.41 20z\"/>\n",
              "  </svg>\n",
              "      </button>\n",
              "      \n",
              "  <style>\n",
              "    .colab-df-container {\n",
              "      display:flex;\n",
              "      flex-wrap:wrap;\n",
              "      gap: 12px;\n",
              "    }\n",
              "\n",
              "    .colab-df-convert {\n",
              "      background-color: #E8F0FE;\n",
              "      border: none;\n",
              "      border-radius: 50%;\n",
              "      cursor: pointer;\n",
              "      display: none;\n",
              "      fill: #1967D2;\n",
              "      height: 32px;\n",
              "      padding: 0 0 0 0;\n",
              "      width: 32px;\n",
              "    }\n",
              "\n",
              "    .colab-df-convert:hover {\n",
              "      background-color: #E2EBFA;\n",
              "      box-shadow: 0px 1px 2px rgba(60, 64, 67, 0.3), 0px 1px 3px 1px rgba(60, 64, 67, 0.15);\n",
              "      fill: #174EA6;\n",
              "    }\n",
              "\n",
              "    [theme=dark] .colab-df-convert {\n",
              "      background-color: #3B4455;\n",
              "      fill: #D2E3FC;\n",
              "    }\n",
              "\n",
              "    [theme=dark] .colab-df-convert:hover {\n",
              "      background-color: #434B5C;\n",
              "      box-shadow: 0px 1px 3px 1px rgba(0, 0, 0, 0.15);\n",
              "      filter: drop-shadow(0px 1px 2px rgba(0, 0, 0, 0.3));\n",
              "      fill: #FFFFFF;\n",
              "    }\n",
              "  </style>\n",
              "\n",
              "      <script>\n",
              "        const buttonEl =\n",
              "          document.querySelector('#df-90cdf091-2357-4871-9c27-db497fe7a8a6 button.colab-df-convert');\n",
              "        buttonEl.style.display =\n",
              "          google.colab.kernel.accessAllowed ? 'block' : 'none';\n",
              "\n",
              "        async function convertToInteractive(key) {\n",
              "          const element = document.querySelector('#df-90cdf091-2357-4871-9c27-db497fe7a8a6');\n",
              "          const dataTable =\n",
              "            await google.colab.kernel.invokeFunction('convertToInteractive',\n",
              "                                                     [key], {});\n",
              "          if (!dataTable) return;\n",
              "\n",
              "          const docLinkHtml = 'Like what you see? Visit the ' +\n",
              "            '<a target=\"_blank\" href=https://colab.research.google.com/notebooks/data_table.ipynb>data table notebook</a>'\n",
              "            + ' to learn more about interactive tables.';\n",
              "          element.innerHTML = '';\n",
              "          dataTable['output_type'] = 'display_data';\n",
              "          await google.colab.output.renderOutput(dataTable, element);\n",
              "          const docLink = document.createElement('div');\n",
              "          docLink.innerHTML = docLinkHtml;\n",
              "          element.appendChild(docLink);\n",
              "        }\n",
              "      </script>\n",
              "    </div>\n",
              "  </div>\n",
              "  "
            ],
            "text/plain": [
              "    lag1   lag2   lag3   lag4   lag5  ...  lag10  lag11  lag12  lag13  lag14\n",
              "0  22244  21583  20081  22055  25534  ...  14846  15121  24853  25507  25190\n",
              "1  28446  22244  21583  20081  22055  ...  26651  14846  15121  24853  25507\n",
              "2  23861  28446  22244  21583  20081  ...  27075  26651  14846  15121  24853\n",
              "3  26863  23861  28446  22244  21583  ...  25605  27075  26651  14846  15121\n",
              "4  24656  26863  23861  28446  22244  ...  25732  25605  27075  26651  14846\n",
              "\n",
              "[5 rows x 14 columns]"
            ]
          },
          "execution_count": 33,
          "metadata": {},
          "output_type": "execute_result"
        }
      ],
      "source": [
        "import numpy as np\n",
        "import pandas as pd \n",
        "def rolling_window(a, window):\n",
        "    shape = a.shape[:-1] + (a.shape[-1] - window + 1, window)\n",
        "    strides = a.strides + (a.strides[-1],)\n",
        "    return np.lib.stride_tricks.as_strided(a, shape=shape, strides=strides)\n",
        "\n",
        "\n",
        "X = pd.DataFrame(rolling_window(first_one['tot_vald'].to_numpy(), 14), \n",
        "                  columns=['lag14','lag13','lag12','lag11','lag10',\n",
        "                           'lag9','lag8','lag7','lag6','lag5',\n",
        "                           'lag4','lag3','lag2','lag1'])\n",
        "\n",
        "X = X[['lag1','lag2','lag3','lag4','lag5',\n",
        "         'lag6','lag7','lag8','lag9','lag10',\n",
        "         'lag11','lag12','lag13','lag14']]\n",
        "X = X.drop(index=321)\n",
        "X.head()"
      ]
    },
    {
      "cell_type": "code",
      "execution_count": null,
      "metadata": {
        "colab": {
          "base_uri": "https://localhost:8080/",
          "height": 206
        },
        "id": "4Ek522d2s7EE",
        "outputId": "7a8870e6-5b80-4a18-de59-f93a44def387"
      },
      "outputs": [
        {
          "data": {
            "text/html": [
              "\n",
              "  <div id=\"df-da55bd8d-bace-45d3-acb8-7085d67850ed\">\n",
              "    <div class=\"colab-df-container\">\n",
              "      <div>\n",
              "<style scoped>\n",
              "    .dataframe tbody tr th:only-of-type {\n",
              "        vertical-align: middle;\n",
              "    }\n",
              "\n",
              "    .dataframe tbody tr th {\n",
              "        vertical-align: top;\n",
              "    }\n",
              "\n",
              "    .dataframe thead th {\n",
              "        text-align: right;\n",
              "    }\n",
              "</style>\n",
              "<table border=\"1\" class=\"dataframe\">\n",
              "  <thead>\n",
              "    <tr style=\"text-align: right;\">\n",
              "      <th></th>\n",
              "      <th>tot_vald</th>\n",
              "    </tr>\n",
              "  </thead>\n",
              "  <tbody>\n",
              "    <tr>\n",
              "      <th>0</th>\n",
              "      <td>28446</td>\n",
              "    </tr>\n",
              "    <tr>\n",
              "      <th>1</th>\n",
              "      <td>23861</td>\n",
              "    </tr>\n",
              "    <tr>\n",
              "      <th>2</th>\n",
              "      <td>26863</td>\n",
              "    </tr>\n",
              "    <tr>\n",
              "      <th>3</th>\n",
              "      <td>24656</td>\n",
              "    </tr>\n",
              "    <tr>\n",
              "      <th>4</th>\n",
              "      <td>24930</td>\n",
              "    </tr>\n",
              "  </tbody>\n",
              "</table>\n",
              "</div>\n",
              "      <button class=\"colab-df-convert\" onclick=\"convertToInteractive('df-da55bd8d-bace-45d3-acb8-7085d67850ed')\"\n",
              "              title=\"Convert this dataframe to an interactive table.\"\n",
              "              style=\"display:none;\">\n",
              "        \n",
              "  <svg xmlns=\"http://www.w3.org/2000/svg\" height=\"24px\"viewBox=\"0 0 24 24\"\n",
              "       width=\"24px\">\n",
              "    <path d=\"M0 0h24v24H0V0z\" fill=\"none\"/>\n",
              "    <path d=\"M18.56 5.44l.94 2.06.94-2.06 2.06-.94-2.06-.94-.94-2.06-.94 2.06-2.06.94zm-11 1L8.5 8.5l.94-2.06 2.06-.94-2.06-.94L8.5 2.5l-.94 2.06-2.06.94zm10 10l.94 2.06.94-2.06 2.06-.94-2.06-.94-.94-2.06-.94 2.06-2.06.94z\"/><path d=\"M17.41 7.96l-1.37-1.37c-.4-.4-.92-.59-1.43-.59-.52 0-1.04.2-1.43.59L10.3 9.45l-7.72 7.72c-.78.78-.78 2.05 0 2.83L4 21.41c.39.39.9.59 1.41.59.51 0 1.02-.2 1.41-.59l7.78-7.78 2.81-2.81c.8-.78.8-2.07 0-2.86zM5.41 20L4 18.59l7.72-7.72 1.47 1.35L5.41 20z\"/>\n",
              "  </svg>\n",
              "      </button>\n",
              "      \n",
              "  <style>\n",
              "    .colab-df-container {\n",
              "      display:flex;\n",
              "      flex-wrap:wrap;\n",
              "      gap: 12px;\n",
              "    }\n",
              "\n",
              "    .colab-df-convert {\n",
              "      background-color: #E8F0FE;\n",
              "      border: none;\n",
              "      border-radius: 50%;\n",
              "      cursor: pointer;\n",
              "      display: none;\n",
              "      fill: #1967D2;\n",
              "      height: 32px;\n",
              "      padding: 0 0 0 0;\n",
              "      width: 32px;\n",
              "    }\n",
              "\n",
              "    .colab-df-convert:hover {\n",
              "      background-color: #E2EBFA;\n",
              "      box-shadow: 0px 1px 2px rgba(60, 64, 67, 0.3), 0px 1px 3px 1px rgba(60, 64, 67, 0.15);\n",
              "      fill: #174EA6;\n",
              "    }\n",
              "\n",
              "    [theme=dark] .colab-df-convert {\n",
              "      background-color: #3B4455;\n",
              "      fill: #D2E3FC;\n",
              "    }\n",
              "\n",
              "    [theme=dark] .colab-df-convert:hover {\n",
              "      background-color: #434B5C;\n",
              "      box-shadow: 0px 1px 3px 1px rgba(0, 0, 0, 0.15);\n",
              "      filter: drop-shadow(0px 1px 2px rgba(0, 0, 0, 0.3));\n",
              "      fill: #FFFFFF;\n",
              "    }\n",
              "  </style>\n",
              "\n",
              "      <script>\n",
              "        const buttonEl =\n",
              "          document.querySelector('#df-da55bd8d-bace-45d3-acb8-7085d67850ed button.colab-df-convert');\n",
              "        buttonEl.style.display =\n",
              "          google.colab.kernel.accessAllowed ? 'block' : 'none';\n",
              "\n",
              "        async function convertToInteractive(key) {\n",
              "          const element = document.querySelector('#df-da55bd8d-bace-45d3-acb8-7085d67850ed');\n",
              "          const dataTable =\n",
              "            await google.colab.kernel.invokeFunction('convertToInteractive',\n",
              "                                                     [key], {});\n",
              "          if (!dataTable) return;\n",
              "\n",
              "          const docLinkHtml = 'Like what you see? Visit the ' +\n",
              "            '<a target=\"_blank\" href=https://colab.research.google.com/notebooks/data_table.ipynb>data table notebook</a>'\n",
              "            + ' to learn more about interactive tables.';\n",
              "          element.innerHTML = '';\n",
              "          dataTable['output_type'] = 'display_data';\n",
              "          await google.colab.output.renderOutput(dataTable, element);\n",
              "          const docLink = document.createElement('div');\n",
              "          docLink.innerHTML = docLinkHtml;\n",
              "          element.appendChild(docLink);\n",
              "        }\n",
              "      </script>\n",
              "    </div>\n",
              "  </div>\n",
              "  "
            ],
            "text/plain": [
              "   tot_vald\n",
              "0     28446\n",
              "1     23861\n",
              "2     26863\n",
              "3     24656\n",
              "4     24930"
            ]
          },
          "execution_count": 34,
          "metadata": {},
          "output_type": "execute_result"
        }
      ],
      "source": [
        "dep_mask = (first_one['jour'] > \"2020-07-14\") & (first_one['jour'] <= \"2021-05-31\")\n",
        "y = first_one.loc[dep_mask]\n",
        "y = y[[\"tot_vald\"]]\n",
        "y = y.reset_index()\n",
        "y = y.drop(columns='index')\n",
        "y.head()"
      ]
    },
    {
      "cell_type": "code",
      "execution_count": null,
      "metadata": {
        "colab": {
          "base_uri": "https://localhost:8080/"
        },
        "id": "xrusWj6bykO7",
        "outputId": "e1194408-3255-4cbd-aeac-2f60dca51bf9"
      },
      "outputs": [
        {
          "data": {
            "text/plain": [
              "((335, 2), (321, 1), (321, 14))"
            ]
          },
          "execution_count": 35,
          "metadata": {},
          "output_type": "execute_result"
        }
      ],
      "source": [
        "first_one.shape, y.shape, X.shape"
      ]
    },
    {
      "cell_type": "markdown",
      "metadata": {
        "id": "6wF0QQuoAA8S"
      },
      "source": [
        "#### Constitution d'ensembles d'apprentissage et de test \n",
        "\n",
        "On conserve les deux premiers tiers du jeu de données pour entrainer le modèle, le dernier tier fait office d'échantillon test."
      ]
    },
    {
      "cell_type": "code",
      "execution_count": null,
      "metadata": {
        "colab": {
          "base_uri": "https://localhost:8080/"
        },
        "id": "9yxJDrReze-A",
        "outputId": "fe29e970-286f-437a-8aab-d9fdb9357a9f"
      },
      "outputs": [
        {
          "data": {
            "text/plain": [
              "((224, 14), (224, 1), (97, 14), (97, 1))"
            ]
          },
          "execution_count": 36,
          "metadata": {},
          "output_type": "execute_result"
        }
      ],
      "source": [
        "Xtrain = X.iloc[:224]\n",
        "Xtest = X.iloc[224:]\n",
        "ytrain = y.iloc[:224]\n",
        "ytest = y.iloc[224:]\n",
        "\n",
        "y_test = ytest.reset_index()\n",
        "y_test = y_test.drop(columns='index')\n",
        "Xtrain.shape, ytrain.shape, Xtest.shape, ytest.shape"
      ]
    },
    {
      "cell_type": "markdown",
      "metadata": {
        "id": "6PRCRiqZAa-6"
      },
      "source": [
        "#### Entrainement du modèle \n",
        "\n",
        "On entraine le modèle via une régression linéaire et une régression par forêts aléatoires"
      ]
    },
    {
      "cell_type": "code",
      "execution_count": null,
      "metadata": {
        "colab": {
          "base_uri": "https://localhost:8080/"
        },
        "id": "g9KqdSe9mAtX",
        "outputId": "ecab6a6b-70c4-4a19-aebf-5fd85915fecc"
      },
      "outputs": [
        {
          "data": {
            "text/plain": [
              "(array([[ 0.62417375,  0.01316151,  0.15612874,  0.06534432, -0.15817056,\n",
              "          0.22890722,  0.57312444, -0.37511033, -0.15220661, -0.0727028 ,\n",
              "         -0.0701021 ,  0.09137284, -0.10121205,  0.14161696]]),\n",
              " array([649.21530358]))"
            ]
          },
          "execution_count": 37,
          "metadata": {},
          "output_type": "execute_result"
        }
      ],
      "source": [
        "from sklearn.linear_model import LinearRegression\n",
        "\n",
        "linear_model = LinearRegression()\n",
        "lm = linear_model.fit(X=Xtrain, y=ytrain)\n",
        "y_pred = lm.predict(Xtest)\n",
        "lm.coef_, lm.intercept_"
      ]
    },
    {
      "cell_type": "code",
      "execution_count": null,
      "metadata": {
        "colab": {
          "base_uri": "https://localhost:8080/"
        },
        "id": "2HQKOiPQvVWN",
        "outputId": "a0a95c6d-5ca1-4580-eded-ac792891bc39"
      },
      "outputs": [
        {
          "name": "stderr",
          "output_type": "stream",
          "text": [
            "/usr/local/lib/python3.7/dist-packages/ipykernel_launcher.py:4: DataConversionWarning:\n",
            "\n",
            "A column-vector y was passed when a 1d array was expected. Please change the shape of y to (n_samples,), for example using ravel().\n",
            "\n"
          ]
        },
        {
          "data": {
            "text/plain": [
              "array([0.16417076, 0.02196145, 0.01546741, 0.00907964, 0.0047817 ,\n",
              "       0.00717546, 0.70897223, 0.01068218, 0.00935022, 0.0094512 ,\n",
              "       0.00926986, 0.0037947 , 0.00842344, 0.01741976])"
            ]
          },
          "execution_count": 38,
          "metadata": {},
          "output_type": "execute_result"
        }
      ],
      "source": [
        "from sklearn.ensemble import RandomForestRegressor\n",
        "RFreg = RandomForestRegressor()\n",
        "\n",
        "RF_model = RFreg.fit(X=Xtrain,y=ytrain)\n",
        "y_pred = lm.predict(Xtest)\n",
        "RF_model.feature_importances_"
      ]
    },
    {
      "cell_type": "markdown",
      "metadata": {
        "id": "ml5CFRiLAkHu"
      },
      "source": [
        "#### Mesure de la performance du modèle "
      ]
    },
    {
      "cell_type": "code",
      "execution_count": null,
      "metadata": {
        "colab": {
          "base_uri": "https://localhost:8080/",
          "height": 287
        },
        "id": "s5vboZdQ6YU8",
        "outputId": "da9e7436-51ec-4f66-9d02-1f61e771c018"
      },
      "outputs": [
        {
          "data": {
            "image/png": "[encoded data removed]",
            "text/plain": [
              "<Figure size 432x288 with 1 Axes>"
            ]
          },
          "metadata": {},
          "output_type": "display_data"
        },
        {
          "name": "stdout",
          "output_type": "stream",
          "text": [
            "Le RMSE de la régression linéaire est de 2525 personnes.\n"
          ]
        }
      ],
      "source": [
        "from sklearn.metrics import mean_squared_error\n",
        "from math import sqrt\n",
        "import matplotlib.pyplot as plt\n",
        "\n",
        "rmse_lm = sqrt(mean_squared_error(y_test,y_pred))\n",
        "plt.plot(y_test, label=\"Observées\")\n",
        "plt.plot(y_pred, label=\"Prédites\")\n",
        "plt.legend()\n",
        "plt.show()\n",
        "print(\"Le RMSE de la régression linéaire est de {:.0f} personnes.\".format(rmse_lm))"
      ]
    },
    {
      "cell_type": "code",
      "execution_count": null,
      "metadata": {
        "colab": {
          "base_uri": "https://localhost:8080/",
          "height": 285
        },
        "id": "l7ZJseb664zY",
        "outputId": "502efabc-6c09-46eb-cce8-4d88f9fbaef8"
      },
      "outputs": [
        {
          "data": {
            "image/png": "[encoded data removed]",
            "text/plain": [
              "<Figure size 432x288 with 1 Axes>"
            ]
          },
          "metadata": {},
          "output_type": "display_data"
        },
        {
          "name": "stdout",
          "output_type": "stream",
          "text": [
            "Le RMSE de la régression par forêts aléatoires est de 2490 personnes.\n"
          ]
        }
      ],
      "source": [
        "y_RFpred = RF_model.predict(Xtest)\n",
        "rmse_RF = sqrt(mean_squared_error(y_test,y_RFpred))\n",
        "plt.plot(y_test, label=\"Observées\")\n",
        "plt.plot(y_RFpred, label=\"Prédites\")\n",
        "plt.legend()\n",
        "plt.show()\n",
        "\n",
        "print(\"Le RMSE de la régression par forêts aléatoires est de {:.0f} personnes.\".format(rmse_RF))"
      ]
    },
    {
      "cell_type": "markdown",
      "metadata": {
        "id": "qBMKn6rmDREr"
      },
      "source": [
        "## Amélioration du modèle\n",
        "\n",
        "Discuter des façons d'améliorer cette première version du modèle."
      ]
    },
    {
      "cell_type": "markdown",
      "metadata": {
        "id": "mdse1jBVDcR-"
      },
      "source": [
        "\n",
        "\n",
        "*  L'objectif intial, non atteint jusqu'à présent, est de prédire le trafic sur un intervalle de 7 jours, et non pas 1. L'objectif serait ainsi d'implémenter un modèle capable de prédire 7 variables dépendantes dans un même modèle. \n",
        "Nous avons ainsi exploré 2 méthodes :\n",
        "\n",
        "\n",
        "1.   MultiOutputRegressor de Sklearn\n",
        "2.   La méthode Prophet de la librairie fbprophet \n",
        "\n"
      ]
    },
    {
      "cell_type": "markdown",
      "metadata": {
        "id": "dqLJ6mndDkEk"
      },
      "source": [
        "## OPTION : implémentation des améliorations\n",
        "\n",
        "Implémenter tout ou partie des suggestions d'amélioration.\n",
        "\n",
        "**Cette partie est facultative et sera bonifiante si les éléments contribués sont probants.**"
      ]
    },
    {
      "cell_type": "markdown",
      "metadata": {
        "id": "UjCfJDOr7NU4"
      },
      "source": [
        "### Première méthode explorée : Multiple outputs regression "
      ]
    },
    {
      "cell_type": "markdown",
      "metadata": {
        "id": "Bnjx48MFI-rP"
      },
      "source": [
        "#### Préparation des features, puis des ensembles d'apprentissage et de test \n",
        "\n",
        "Hypothèses : \n",
        "*   La matrice des variables dépendantes Multi_y contient 7 colonnes représentant le nombre total de validations pour une station (dans la première colonne, le nombre correspondant à la date qui nous est la plus proche dans le temps).\n",
        "*   La matrice des variables explicatives Multi_X contient 14 colonnes représentant le nombre total de validations pour une station (dans la première colonne, les nombres correspondants à la veille des éléments de la dernière colonne de Multi_y).\n",
        "\n"
      ]
    },
    {
      "cell_type": "code",
      "execution_count": null,
      "metadata": {
        "colab": {
          "base_uri": "https://localhost:8080/"
        },
        "id": "sJ4SPmv87U9i",
        "outputId": "46ab6946-0254-463e-f584-6ed1cb1cdc74"
      },
      "outputs": [
        {
          "data": {
            "text/plain": [
              "((315, 7), (315, 14))"
            ]
          },
          "execution_count": 41,
          "metadata": {},
          "output_type": "execute_result"
        }
      ],
      "source": [
        "Multi_y = first_one.loc[dep_mask]\n",
        "Multi_y = pd.DataFrame(rolling_window(Multi_y ['tot_vald'].to_numpy(), 7), \n",
        "                  columns=['y7','y6','y5','y4','y3','y2','y1'])\n",
        "Multi_y = Multi_y[['y1','y2','y3','y4','y5','y6','y7']]\n",
        "Multi_X = X.drop(index={320,319, 318,317,316,315})\n",
        "Multi_y.shape, Multi_X.shape"
      ]
    },
    {
      "cell_type": "code",
      "execution_count": null,
      "metadata": {
        "colab": {
          "base_uri": "https://localhost:8080/"
        },
        "id": "mQC0IryP_zzQ",
        "outputId": "d156cfa6-6a8f-450a-a97b-2356704e0f99"
      },
      "outputs": [
        {
          "data": {
            "text/plain": [
              "((208, 14), (107, 14), (208, 7), (107, 7))"
            ]
          },
          "execution_count": 42,
          "metadata": {},
          "output_type": "execute_result"
        }
      ],
      "source": [
        "MXTrain = Multi_X.iloc[:208]\n",
        "MXTest = Multi_X.iloc[208:]\n",
        "MYTrain = Multi_y.iloc[:208]\n",
        "MYTest = Multi_y.iloc[208:]\n",
        "MY_Test = MYTest.reset_index()\n",
        "MY_Test = MY_Test.drop(columns='index')\n",
        "\n",
        "MXTrain.shape,MXTest.shape,MYTrain.shape,MYTest.shape"
      ]
    },
    {
      "cell_type": "markdown",
      "metadata": {
        "id": "TmCzBxuQKuyz"
      },
      "source": [
        "#### Entrainement du modèle"
      ]
    },
    {
      "cell_type": "code",
      "execution_count": null,
      "metadata": {
        "id": "XgJAuRQC7I1z"
      },
      "outputs": [],
      "source": [
        "from sklearn.multioutput import MultiOutputRegressor\n",
        "\n",
        "Multi = MultiOutputRegressor(LinearRegression())\n",
        "model_multi = Multi.fit(MXTrain, MYTrain)\n",
        "My_pred = model_multi.predict(MXTest)\n",
        "My_pred_df = pd.DataFrame(My_pred)"
      ]
    },
    {
      "cell_type": "markdown",
      "metadata": {
        "id": "01WyIFO2K1Em"
      },
      "source": [
        "#### Mesure de la performance du modèle"
      ]
    },
    {
      "cell_type": "code",
      "execution_count": null,
      "metadata": {
        "colab": {
          "base_uri": "https://localhost:8080/"
        },
        "id": "fjZxQTgTCW0F",
        "outputId": "f05fdbd4-b997-49e1-d52b-d286efbf2e53"
      },
      "outputs": [
        {
          "name": "stdout",
          "output_type": "stream",
          "text": [
            "Le RMSE de la régression linéaire en Multiouput est de 2470 personnes.\n"
          ]
        }
      ],
      "source": [
        "rmse_multi = sqrt(mean_squared_error(MY_Test[['y1','y2','y3','y4','y5','y6','y7']],My_pred_df[[0,1,2,3,4,5,6]]))\n",
        "print(\"Le RMSE de la régression linéaire en Multiouput est de {:.0f} personnes.\".format(rmse_multi))"
      ]
    },
    {
      "cell_type": "markdown",
      "metadata": {
        "id": "8WIpfMzQLkTe"
      },
      "source": [
        "Ce RMSE est plus faible que ceux précedemment calculés dans la régression linéaire et la régression par forêts aléatoires. "
      ]
    },
    {
      "cell_type": "markdown",
      "metadata": {
        "id": "K_K5PUxbr5_S"
      },
      "source": [
        "### Deuxième méthode explorée : Prophet"
      ]
    },
    {
      "cell_type": "markdown",
      "metadata": {
        "id": "m4lFsEwKX89a"
      },
      "source": [
        "#### Préparation des features (y,X) et constitution des ensembles d'apprentissage et de test "
      ]
    },
    {
      "cell_type": "code",
      "execution_count": null,
      "metadata": {
        "id": "YlhwO0DEDM37"
      },
      "outputs": [],
      "source": [
        "from fbprophet import Prophet\n",
        "\n",
        "Train = first_one.iloc[:224]\n",
        "Test = first_one.iloc[224:]\n",
        "\n",
        "df_proph = Train[[\"jour\",\"tot_vald\"]]\n",
        "Test_proph = Test[[\"jour\",\"tot_vald\"]]\n",
        "\n",
        "df_proph = df_proph.rename(columns={\"jour\": \"ds\", \"tot_vald\": \"y\"})\n",
        "Test_proph = Test_proph.rename(columns={\"jour\": \"ds\", \"tot_vald\": \"y\"})\n",
        "\n",
        "proph_test = Test_proph.reset_index()\n",
        "proph_test = proph_test.drop(columns='index')"
      ]
    },
    {
      "cell_type": "markdown",
      "metadata": {
        "id": "te1S1h89YhRt"
      },
      "source": [
        "#### Entrainement du modèle"
      ]
    },
    {
      "cell_type": "code",
      "execution_count": null,
      "metadata": {
        "colab": {
          "base_uri": "https://localhost:8080/"
        },
        "id": "O1HCao_rCsPV",
        "outputId": "3a51b6f9-a3ba-43eb-e7b4-1b28802d3d92"
      },
      "outputs": [
        {
          "name": "stderr",
          "output_type": "stream",
          "text": [
            "INFO:numexpr.utils:NumExpr defaulting to 2 threads.\n",
            "INFO:fbprophet:Disabling yearly seasonality. Run prophet with yearly_seasonality=True to override this.\n",
            "INFO:fbprophet:Disabling daily seasonality. Run prophet with daily_seasonality=True to override this.\n"
          ]
        },
        {
          "data": {
            "text/plain": [
              "<fbprophet.forecaster.Prophet at 0x7fc6fcb33a10>"
            ]
          },
          "execution_count": 46,
          "metadata": {},
          "output_type": "execute_result"
        }
      ],
      "source": [
        "m = Prophet()\n",
        "m.add_country_holidays(country_name='FR')\n",
        "m.fit(df_proph)"
      ]
    },
    {
      "cell_type": "code",
      "execution_count": null,
      "metadata": {
        "colab": {
          "base_uri": "https://localhost:8080/",
          "height": 269
        },
        "id": "vTyVmfnYDBKe",
        "outputId": "ef60f5fc-4060-4544-f736-5a285278362b"
      },
      "outputs": [
        {
          "data": {
            "text/html": [
              "\n",
              "  <div id=\"df-2e839935-2e09-45e8-9743-67ea9f6ce6dd\">\n",
              "    <div class=\"colab-df-container\">\n",
              "      <div>\n",
              "<style scoped>\n",
              "    .dataframe tbody tr th:only-of-type {\n",
              "        vertical-align: middle;\n",
              "    }\n",
              "\n",
              "    .dataframe tbody tr th {\n",
              "        vertical-align: top;\n",
              "    }\n",
              "\n",
              "    .dataframe thead th {\n",
              "        text-align: right;\n",
              "    }\n",
              "</style>\n",
              "<table border=\"1\" class=\"dataframe\">\n",
              "  <thead>\n",
              "    <tr style=\"text-align: right;\">\n",
              "      <th></th>\n",
              "      <th>ds</th>\n",
              "      <th>yhat</th>\n",
              "    </tr>\n",
              "  </thead>\n",
              "  <tbody>\n",
              "    <tr>\n",
              "      <th>104</th>\n",
              "      <td>2021-05-25</td>\n",
              "      <td>17966.729053</td>\n",
              "    </tr>\n",
              "    <tr>\n",
              "      <th>105</th>\n",
              "      <td>2021-05-26</td>\n",
              "      <td>17743.039905</td>\n",
              "    </tr>\n",
              "    <tr>\n",
              "      <th>106</th>\n",
              "      <td>2021-05-27</td>\n",
              "      <td>17609.582936</td>\n",
              "    </tr>\n",
              "    <tr>\n",
              "      <th>107</th>\n",
              "      <td>2021-05-28</td>\n",
              "      <td>17471.907745</td>\n",
              "    </tr>\n",
              "    <tr>\n",
              "      <th>108</th>\n",
              "      <td>2021-05-29</td>\n",
              "      <td>9891.188450</td>\n",
              "    </tr>\n",
              "    <tr>\n",
              "      <th>109</th>\n",
              "      <td>2021-05-30</td>\n",
              "      <td>10368.105850</td>\n",
              "    </tr>\n",
              "    <tr>\n",
              "      <th>110</th>\n",
              "      <td>2021-05-31</td>\n",
              "      <td>17802.031185</td>\n",
              "    </tr>\n",
              "  </tbody>\n",
              "</table>\n",
              "</div>\n",
              "      <button class=\"colab-df-convert\" onclick=\"convertToInteractive('df-2e839935-2e09-45e8-9743-67ea9f6ce6dd')\"\n",
              "              title=\"Convert this dataframe to an interactive table.\"\n",
              "              style=\"display:none;\">\n",
              "        \n",
              "  <svg xmlns=\"http://www.w3.org/2000/svg\" height=\"24px\"viewBox=\"0 0 24 24\"\n",
              "       width=\"24px\">\n",
              "    <path d=\"M0 0h24v24H0V0z\" fill=\"none\"/>\n",
              "    <path d=\"M18.56 5.44l.94 2.06.94-2.06 2.06-.94-2.06-.94-.94-2.06-.94 2.06-2.06.94zm-11 1L8.5 8.5l.94-2.06 2.06-.94-2.06-.94L8.5 2.5l-.94 2.06-2.06.94zm10 10l.94 2.06.94-2.06 2.06-.94-2.06-.94-.94-2.06-.94 2.06-2.06.94z\"/><path d=\"M17.41 7.96l-1.37-1.37c-.4-.4-.92-.59-1.43-.59-.52 0-1.04.2-1.43.59L10.3 9.45l-7.72 7.72c-.78.78-.78 2.05 0 2.83L4 21.41c.39.39.9.59 1.41.59.51 0 1.02-.2 1.41-.59l7.78-7.78 2.81-2.81c.8-.78.8-2.07 0-2.86zM5.41 20L4 18.59l7.72-7.72 1.47 1.35L5.41 20z\"/>\n",
              "  </svg>\n",
              "      </button>\n",
              "      \n",
              "  <style>\n",
              "    .colab-df-container {\n",
              "      display:flex;\n",
              "      flex-wrap:wrap;\n",
              "      gap: 12px;\n",
              "    }\n",
              "\n",
              "    .colab-df-convert {\n",
              "      background-color: #E8F0FE;\n",
              "      border: none;\n",
              "      border-radius: 50%;\n",
              "      cursor: pointer;\n",
              "      display: none;\n",
              "      fill: #1967D2;\n",
              "      height: 32px;\n",
              "      padding: 0 0 0 0;\n",
              "      width: 32px;\n",
              "    }\n",
              "\n",
              "    .colab-df-convert:hover {\n",
              "      background-color: #E2EBFA;\n",
              "      box-shadow: 0px 1px 2px rgba(60, 64, 67, 0.3), 0px 1px 3px 1px rgba(60, 64, 67, 0.15);\n",
              "      fill: #174EA6;\n",
              "    }\n",
              "\n",
              "    [theme=dark] .colab-df-convert {\n",
              "      background-color: #3B4455;\n",
              "      fill: #D2E3FC;\n",
              "    }\n",
              "\n",
              "    [theme=dark] .colab-df-convert:hover {\n",
              "      background-color: #434B5C;\n",
              "      box-shadow: 0px 1px 3px 1px rgba(0, 0, 0, 0.15);\n",
              "      filter: drop-shadow(0px 1px 2px rgba(0, 0, 0, 0.3));\n",
              "      fill: #FFFFFF;\n",
              "    }\n",
              "  </style>\n",
              "\n",
              "      <script>\n",
              "        const buttonEl =\n",
              "          document.querySelector('#df-2e839935-2e09-45e8-9743-67ea9f6ce6dd button.colab-df-convert');\n",
              "        buttonEl.style.display =\n",
              "          google.colab.kernel.accessAllowed ? 'block' : 'none';\n",
              "\n",
              "        async function convertToInteractive(key) {\n",
              "          const element = document.querySelector('#df-2e839935-2e09-45e8-9743-67ea9f6ce6dd');\n",
              "          const dataTable =\n",
              "            await google.colab.kernel.invokeFunction('convertToInteractive',\n",
              "                                                     [key], {});\n",
              "          if (!dataTable) return;\n",
              "\n",
              "          const docLinkHtml = 'Like what you see? Visit the ' +\n",
              "            '<a target=\"_blank\" href=https://colab.research.google.com/notebooks/data_table.ipynb>data table notebook</a>'\n",
              "            + ' to learn more about interactive tables.';\n",
              "          element.innerHTML = '';\n",
              "          dataTable['output_type'] = 'display_data';\n",
              "          await google.colab.output.renderOutput(dataTable, element);\n",
              "          const docLink = document.createElement('div');\n",
              "          docLink.innerHTML = docLinkHtml;\n",
              "          element.appendChild(docLink);\n",
              "        }\n",
              "      </script>\n",
              "    </div>\n",
              "  </div>\n",
              "  "
            ],
            "text/plain": [
              "            ds          yhat\n",
              "104 2021-05-25  17966.729053\n",
              "105 2021-05-26  17743.039905\n",
              "106 2021-05-27  17609.582936\n",
              "107 2021-05-28  17471.907745\n",
              "108 2021-05-29   9891.188450\n",
              "109 2021-05-30  10368.105850\n",
              "110 2021-05-31  17802.031185"
            ]
          },
          "execution_count": 47,
          "metadata": {},
          "output_type": "execute_result"
        }
      ],
      "source": [
        "forecast_df = m.predict(proph_test)\n",
        "forecast_df[['ds','yhat']].tail(7)"
      ]
    },
    {
      "cell_type": "markdown",
      "metadata": {
        "id": "dURJy--Nhp-z"
      },
      "source": [
        "#### Mesure de la performance du modèle "
      ]
    },
    {
      "cell_type": "code",
      "execution_count": null,
      "metadata": {
        "colab": {
          "base_uri": "https://localhost:8080/",
          "height": 285
        },
        "id": "4a1gUmn4blmY",
        "outputId": "c2cba5a9-59fc-43e1-ccc6-979234708cb1"
      },
      "outputs": [
        {
          "data": {
            "image/png": "[encoded data removed]",
            "text/plain": [
              "<Figure size 432x288 with 1 Axes>"
            ]
          },
          "metadata": {},
          "output_type": "display_data"
        },
        {
          "name": "stdout",
          "output_type": "stream",
          "text": [
            "Le RMSE de la méthode Prophet est de 3104 personnes.\n"
          ]
        }
      ],
      "source": [
        "rmse_proph = sqrt(mean_squared_error(Test_proph[['y']],forecast_df[['yhat']]))\n",
        "plt.plot(proph_test['y'], label=\"Observées\")\n",
        "plt.plot(forecast_df['yhat'], label=\"Prédites\")\n",
        "plt.legend()\n",
        "plt.show()\n",
        "print(\"Le RMSE de la méthode Prophet est de {:.0f} personnes.\".format(rmse_proph))"
      ]
    },
    {
      "cell_type": "markdown",
      "metadata": {
        "id": "V1OIzA8OMCWf"
      },
      "source": [
        "Au vu de son RMSE, la méthode Prophet est celle qui se trompe en moyenne le plus parmi toutes les méthodes que nous avons essayé. \n",
        "Nous avons décidé de l'implémenter car elle paraissait adaptée à nos besoins (pouvoir prédire des séries temporelles sur un intervalle souhaité). \n",
        "Mais pour autant, le résultat de notre backtesting montre que la généralisation de la méthode telle quelle est pauvre, tant au niveau de la tendance que de la volatilité."
      ]
    },
    {
      "cell_type": "markdown",
      "metadata": {
        "id": "F_i2DRa3Nr3j"
      },
      "source": [
        "## Conclusion sur la modélisation \n",
        "\n"
      ]
    },
    {
      "cell_type": "markdown",
      "metadata": {
        "id": "xDoGnBC4gda6"
      },
      "source": [
        "Pour conclure nous pouvons affirmer que notre modélisation optimale reste la régression multioutput qui nous permet de réaliser des projections sur 7 jours en fonction des 14 précédents et ce avec une erreur plus faibles qu'en utilisant Prophet. "
      ]
    }
  ],
  "metadata": {
    "colab": {
      "collapsed_sections": [
        "B4fXsbY1BRCt",
        "uFkMo_2WBcrG"
      ],
      "name": "Traitement_des_validations_du_réseau_de_transport_d'Ile_de_France_à_compléter.ipynb",
      "provenance": [],
      "include_colab_link": true
    },
    "kernelspec": {
      "display_name": "Python 3",
      "name": "python3"
    },
    "language_info": {
      "name": "python"
    }
  },
  "nbformat": 4,
  "nbformat_minor": 0
}